{
 "cells": [
  {
   "cell_type": "code",
   "execution_count": 1,
   "id": "646d8c98",
   "metadata": {},
   "outputs": [],
   "source": [
    "import re\n",
    "import requests\n",
    "import threading\n",
    "import pandas as pd\n",
    "import concurrent.futures\n",
    "import numpy as np"
   ]
  },
  {
   "cell_type": "code",
   "execution_count": 2,
   "id": "4b16fc8b",
   "metadata": {},
   "outputs": [],
   "source": [
    "def get_pd(filename):\n",
    "    d = pd.read_csv(filename, index_col=False, on_bad_lines='skip')\n",
    "    # d = d.dropna()\n",
    "    # d.drop_duplicates(inplace=True, keep=False)\n",
    "    return d"
   ]
  },
  {
   "cell_type": "code",
   "execution_count": 7,
   "id": "60c82f0e",
   "metadata": {},
   "outputs": [],
   "source": [
    "def get_data():    \n",
    "    pd.options.display.max_colwidth = 300\n",
    "    d = get_pd(\"all_url2.csv\")\n",
    "    d = d.drop_duplicates(subset=['url'])\n",
    "    a = d.sort_values(by=['n_gram'], ascending=False)\n",
    "    return a"
   ]
  },
  {
   "cell_type": "code",
   "execution_count": 8,
   "id": "65377a5b",
   "metadata": {},
   "outputs": [
    {
     "name": "stdout",
     "output_type": "stream",
     "text": [
      "                                                                                                                                                                                                                                                                                                              url  \\\n",
      "960                                                                                                                                                                                                https://www.skysports.com/football/news/11667/12559623/rangnick-responds-to-keane-i-cant-force-players-to-play   \n",
      "333                                                                                                                                                                                                                                                                   https://www.skysports.com/manchester-united   \n",
      "1539                                                                                                                                                                                                                                                         https://www.skysports.com/manchester-united-features   \n",
      "1324                                                                                                                                                                                                                                                                        https://www.skysports.com/paul-merson   \n",
      "1411                                                                                                                                                                                                                                            https://www.skysports.com/watch/video/tv-shows/revista-de-la-liga   \n",
      "1738                                                                                                                                                                                                                              https://www.skysports.com/watch/video/sports/football/competitions/primera-liga   \n",
      "957                                                                                                                                https://www.skysports.com/mma/news/19828/12542660/khabib-nurmagomedov-on-tyson-fury-vs-francis-ngannou-boxing-vs-mma-and-his-transition-from-fighter-to-promoter-with-eagle-fc   \n",
      "1209                                                                                                                                                                                                                                 https://www.skysports.com/watch/video/sports/football/competitions/euro-2020   \n",
      "1279  https://www.goal.com/th/%E0%B8%82%E0%B9%88%E0%B8%B2%E0%B8%A7/in-numbers-%E0%B8%84%E0%B8%A3%E0%B8%AA%E0%B9%80%E0%B8%95%E0%B8%A2%E0%B9%82%E0%B8%99-%E0%B9%82%E0%B8%A3%E0%B8%99%E0%B8%A5%E0%B9%82%E0%B8%94-%E0%B8%A2%E0%B8%87%E0%B9%84%E0%B8%94%E0%B8%81%E0%B8%9B%E0%B8%A3%E0%B8%B0%E0%B8%95%E0%B9%83%E0%B8...   \n",
      "1649                                                                                                                                                                                                                                                           https://www.skysports.com/manchester-united-videos   \n",
      "71                                                                                                                                                                                                                                                               https://www.skysports.com/manchester-united-news   \n",
      "1597                                                 https://www.goal.com/th/%E0%B8%97%E0%B8%B5%E0%B8%A1/%E0%B9%81%E0%B8%A1%E0%B8%99%E0%B9%80%E0%B8%8A%E0%B8%AA%E0%B9%80%E0%B8%95%E0%B8%AD%E0%B8%A3%E0%B9%8C-%E0%B8%A2%E0%B8%B9%E0%B9%84%E0%B8%99%E0%B9%80%E0%B8%95%E0%B9%87%E0%B8%94/1/6eqit8ye8aomdsrrq0hk3v7gh   \n",
      "999                                                                                                                                                                                                                                                                              https://www.skysports.com/getafe   \n",
      "342                                                                                                                                                                                                                                                                               https://www.skysports.com/brest   \n",
      "1581                                                                                                                                                                                                                                                                          https://www.skysports.com/roy-keane   \n",
      "1604                                                                                                                                                                                                                                                                            https://www.skysports.com/granada   \n",
      "888                                                                                                                                                                                                                                                                       https://www.skysports.com/hertha-berlin   \n",
      "883                                                                                                                                                                                                                                                               https://www.skysports.com/football/teams/serbia   \n",
      "1362                                                                                                                                                                                                                                                                            https://www.skysports.com/cologne   \n",
      "1760                                                                                                                                                                                                                                                                https://www.skysports.com/football/teams/peru   \n",
      "\n",
      "      n_gram  \n",
      "960       40  \n",
      "333       16  \n",
      "1539      15  \n",
      "1324      13  \n",
      "1411      12  \n",
      "1738      12  \n",
      "957       10  \n",
      "1209       9  \n",
      "1279       9  \n",
      "1649       8  \n",
      "71         7  \n",
      "1597       6  \n",
      "999        6  \n",
      "342        5  \n",
      "1581       5  \n",
      "1604       5  \n",
      "888        5  \n",
      "883        5  \n",
      "1362       5  \n",
      "1760       5  \n"
     ]
    }
   ],
   "source": [
    "a = get_data()\n",
    "print(a[:20])"
   ]
  },
  {
   "cell_type": "code",
   "execution_count": null,
   "id": "8b184e6d",
   "metadata": {},
   "outputs": [],
   "source": []
  }
 ],
 "metadata": {
  "kernelspec": {
   "display_name": "Python 3 (ipykernel)",
   "language": "python",
   "name": "python3"
  },
  "language_info": {
   "codemirror_mode": {
    "name": "ipython",
    "version": 3
   },
   "file_extension": ".py",
   "mimetype": "text/x-python",
   "name": "python",
   "nbconvert_exporter": "python",
   "pygments_lexer": "ipython3",
   "version": "3.9.7"
  }
 },
 "nbformat": 4,
 "nbformat_minor": 5
}
