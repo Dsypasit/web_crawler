{
 "cells": [
  {
   "cell_type": "code",
   "execution_count": 1,
   "id": "01bb7f4a",
   "metadata": {},
   "outputs": [],
   "source": [
    "from CrawlerManager import CrawlerManager\n",
    "manager = CrawlerManager()"
   ]
  },
  {
   "cell_type": "code",
   "execution_count": 2,
   "id": "57eda205",
   "metadata": {
    "scrolled": true
   },
   "outputs": [
    {
     "name": "stdout",
     "output_type": "stream",
     "text": [
      "https://www.goal.com/th success 6.3198254108428955\n",
      "https://www.skysports.com/football success 8.771255493164062\n",
      "https://www.bbc.com/sport/football success 9.869024991989136\n",
      "https://www.siamsport.co.th/football/international success 9.896027565002441\n",
      "https://www.dailymail.co.uk/sport/football success 10.081079959869385\n",
      "https://edition.cnn.com/sport/football success 11.891414403915405\n",
      "0                                    https://www.goal.com/th/ข่าว/live-update-ลาลีกา-แอตฯ-มาดริด-กาดิซ/bltbbf9e465c90f19b2\n",
      "1                                                           https://www.goal.com/th/ข่าว/เสียงข้างสนาม/bltb8e05a6efc7bb3c7\n",
      "2                        https://www.goal.com/th/ลิสต์/เราคือครอบครัว-รวมคู่พี่น้องดังแห่งวงการลูกหนัง/blt0798241feba0f913\n",
      "3                               https://www.goal.com/th/ข่าว/ไม่ทิ้งกัน-trivago-ประกาศสนับสนุนเชลซีต่อ/bltd7f0a739be6c6bfb\n",
      "4                               https://www.goal.com/th/ข่าว/มีทางแก้-อดีต-ปธ-พาเลซ-อธิบายวิธีขายเชลซี/blt82606515b7c28ada\n",
      "5       https://www.goal.com/th/ข่าว/official-เซอร์ไพรส์-ทรูบียู-ตั้ง-วิดมาร์-คุมทัพ-โยก-โค้ชแบน-นั่ง-/blt213c1cf83218405c\n",
      "6     https://www.goal.com/th/ข่าว/โปรแกรมถ่ายทอดสดฟุตบอล-พรีเมียร์ลีก-ไทยลีก-ลาลีกา-บุนเดสลีกา/1avl5byctg48z1tjl9y0cu9ro2\n",
      "7                                     https://www.goal.com/th/ข่าว/สรุปประเด็น-เชลซีโดนผลกระทบอะไรบ้าง/bltde22a5b972876413\n",
      "8                    https://www.goal.com/th/ลิสต์/ยุคบุกเบิก-แมนฯซิตี้-ซื้อใครบ้างในฤดูกาลแรก-หลังชีค/blt2e7429318e8208ef\n",
      "9           https://www.goal.com/th/ลิสต์/จาก-1-ถึง-176-เพื่อนร่วมทีม-แฮร์รี-เคน-ยิงลูกแรกพรีเมียร์ลีก/bltc06a756710aea1a0\n",
      "10                       https://www.goal.com/th/ลิสต์/ปีเดียว-13-แบบ-รวมชุดแข่งนาโปลีฤดูกาล-2021-2022/blt594b3fa24e1ee0f6\n",
      "11                               https://www.goal.com/th/ข่าว/คอนเต้คอนเฟิร์มคุม-สเปอร์ส-่ต่อซีซันหน้า/bltc06a3b6dae65771c\n",
      "12                   https://www.goal.com/th/ข่าว/ชนาธิปแอสซิสต์-ฟรอนทาเลเฉือนนาโงยา-1-0-ถูกแบนเกมหน้า/blt391346226fdaf225\n",
      "13                                              https://www.goal.com/th/ข่าว/live-ฟตบอลไทย-2021/1nbq119dy32ds1fxki009reex6\n",
      "14                         https://www.goal.com/th/ข่าว/ซานโชเผยแข้ง-เชลซี-ลิเวอร์พูล-ชวนย้ายซบตอนยูโร/blt177fd7f348db8e3f\n",
      "15                               https://www.goal.com/th/ข่าว/รัฐบาลวอนแฟนเชลซีหยุดตะโกนชื่ออับราโมวิช/blt92dc9c6c89a20f59\n",
      "16              https://www.goal.com/th/ข่าว/revo-league-cup-preview-ลีโอ-เชียงรายฯ-บีจี-ปทุม-ยูไนเต็ด/blt4522bdb4877c4ebe\n",
      "17                            https://www.goal.com/th/ข่าว/บราซิลเรียก-มาร์ติเนลลี-ประเดิมติดธงชุดใหญ่/blt95422712794ef793\n",
      "18                   https://www.goal.com/th/ข่าว/อาร์เซนอล-เลสเตอร์-ข่าวล่าสุด-เวลาแข่ง-ช่องถ่ายทอดสด/blt0f4fe188c328b688\n",
      "19              https://www.goal.com/th/ข่าว/revo-league-cup-preview-ทรู-แบงค็อก-ยูไนเต็ด-ชลบุรี-เอฟซี/blt8b7a6c8257cec869\n",
      "dtype: object\n",
      "Wall time: 11.9 s\n"
     ]
    }
   ],
   "source": [
    "%%time\n",
    "links = manager.get_all_links()\n",
    "print(links[:20])"
   ]
  },
  {
   "cell_type": "code",
   "execution_count": 3,
   "id": "60d5dbef",
   "metadata": {},
   "outputs": [
    {
     "name": "stdout",
     "output_type": "stream",
     "text": [
      "408\n"
     ]
    }
   ],
   "source": [
    "print(len(links))"
   ]
  },
  {
   "cell_type": "code",
   "execution_count": 4,
   "id": "042195b8",
   "metadata": {},
   "outputs": [
    {
     "name": "stdout",
     "output_type": "stream",
     "text": [
      "เชลซี\n",
      "Wall time: 4.17 s\n"
     ]
    },
    {
     "data": {
      "text/html": [
       "<div>\n",
       "<style scoped>\n",
       "    .dataframe tbody tr th:only-of-type {\n",
       "        vertical-align: middle;\n",
       "    }\n",
       "\n",
       "    .dataframe tbody tr th {\n",
       "        vertical-align: top;\n",
       "    }\n",
       "\n",
       "    .dataframe thead th {\n",
       "        text-align: right;\n",
       "    }\n",
       "</style>\n",
       "<table border=\"1\" class=\"dataframe\">\n",
       "  <thead>\n",
       "    <tr style=\"text-align: right;\">\n",
       "      <th></th>\n",
       "      <th>url</th>\n",
       "      <th>n_gram</th>\n",
       "    </tr>\n",
       "  </thead>\n",
       "  <tbody>\n",
       "    <tr>\n",
       "      <th>114</th>\n",
       "      <td>https://www.goal.com/th/ข่าว/สรุปประเด็น-เชลซีโดนผลกระทบอะไรบ้าง/bltde22a5b972876413</td>\n",
       "      <td>32.0</td>\n",
       "    </tr>\n",
       "    <tr>\n",
       "      <th>8</th>\n",
       "      <td>https://www.goal.com/th/ข่าว/เสียงข้างสนาม/bltb8e05a6efc7bb3c7</td>\n",
       "      <td>13.0</td>\n",
       "    </tr>\n",
       "    <tr>\n",
       "      <th>112</th>\n",
       "      <td>https://www.goal.com/th/ข่าว/เชลซี-นิวคาสเซิล-ข่าวล่าสุด-เวลาแข่ง-ช่องถ่ายทอดสด/bltafee326feab27362/match/em1xnf3tebisn9vb5y5ac4844</td>\n",
       "      <td>12.0</td>\n",
       "    </tr>\n",
       "    <tr>\n",
       "      <th>148</th>\n",
       "      <td>https://www.goal.com/th/ข่าว/เชลซี-นิวคาสเซิล-ข่าวล่าสุด-เวลาแข่ง-ช่องถ่ายทอดสด/bltafee326feab27362</td>\n",
       "      <td>12.0</td>\n",
       "    </tr>\n",
       "    <tr>\n",
       "      <th>150</th>\n",
       "      <td>https://www.goal.com/th/ข่าว/มีทางแก้-อดีต-ปธ-พาเลซ-อธิบายวิธีขายเชลซี/blt82606515b7c28ada</td>\n",
       "      <td>11.0</td>\n",
       "    </tr>\n",
       "    <tr>\n",
       "      <th>68</th>\n",
       "      <td>https://www.goal.com/th/ข่าว/คล็อปป์ชี้รัฐบาลทําถูกแล้วแม้เห็นใจคนที่เชลซี/blt6ba1bb09fc2c40a4</td>\n",
       "      <td>10.0</td>\n",
       "    </tr>\n",
       "    <tr>\n",
       "      <th>149</th>\n",
       "      <td>https://www.goal.com/th/ข่าว/เดินหน้าต่อ-เศรษฐีอังกฤษยืนยันยังสนใจซื้อเชลซี/blta949dd7a5a9b4883</td>\n",
       "      <td>9.0</td>\n",
       "    </tr>\n",
       "    <tr>\n",
       "      <th>28</th>\n",
       "      <td>https://www.goal.com/th/ข่าว/มีติดขัด-เศรษฐีตุรกีอัพเดทความคืบหน้าเทคโอเวอร์เชลซี/blt8aec53a85096efac</td>\n",
       "      <td>9.0</td>\n",
       "    </tr>\n",
       "    <tr>\n",
       "      <th>36</th>\n",
       "      <td>https://www.goal.com/th/ข่าว/ไม่ใช่แค่เชลซี-รังนิคชี้-อาร์เซนอล-เอฟเวอร์ตัน/blt76a75eee16e6ca7a</td>\n",
       "      <td>8.0</td>\n",
       "    </tr>\n",
       "    <tr>\n",
       "      <th>1</th>\n",
       "      <td>https://www.goal.com/th/ข่าว/ไม่ทิ้งกัน-trivago-ประกาศสนับสนุนเชลซีต่อ/bltd7f0a739be6c6bfb</td>\n",
       "      <td>8.0</td>\n",
       "    </tr>\n",
       "  </tbody>\n",
       "</table>\n",
       "</div>"
      ],
      "text/plain": [
       "                                                                                                                                     url  \\\n",
       "114                                                 https://www.goal.com/th/ข่าว/สรุปประเด็น-เชลซีโดนผลกระทบอะไรบ้าง/bltde22a5b972876413   \n",
       "8                                                                         https://www.goal.com/th/ข่าว/เสียงข้างสนาม/bltb8e05a6efc7bb3c7   \n",
       "112  https://www.goal.com/th/ข่าว/เชลซี-นิวคาสเซิล-ข่าวล่าสุด-เวลาแข่ง-ช่องถ่ายทอดสด/bltafee326feab27362/match/em1xnf3tebisn9vb5y5ac4844   \n",
       "148                                  https://www.goal.com/th/ข่าว/เชลซี-นิวคาสเซิล-ข่าวล่าสุด-เวลาแข่ง-ช่องถ่ายทอดสด/bltafee326feab27362   \n",
       "150                                           https://www.goal.com/th/ข่าว/มีทางแก้-อดีต-ปธ-พาเลซ-อธิบายวิธีขายเชลซี/blt82606515b7c28ada   \n",
       "68                                        https://www.goal.com/th/ข่าว/คล็อปป์ชี้รัฐบาลทําถูกแล้วแม้เห็นใจคนที่เชลซี/blt6ba1bb09fc2c40a4   \n",
       "149                                      https://www.goal.com/th/ข่าว/เดินหน้าต่อ-เศรษฐีอังกฤษยืนยันยังสนใจซื้อเชลซี/blta949dd7a5a9b4883   \n",
       "28                                 https://www.goal.com/th/ข่าว/มีติดขัด-เศรษฐีตุรกีอัพเดทความคืบหน้าเทคโอเวอร์เชลซี/blt8aec53a85096efac   \n",
       "36                                       https://www.goal.com/th/ข่าว/ไม่ใช่แค่เชลซี-รังนิคชี้-อาร์เซนอล-เอฟเวอร์ตัน/blt76a75eee16e6ca7a   \n",
       "1                                             https://www.goal.com/th/ข่าว/ไม่ทิ้งกัน-trivago-ประกาศสนับสนุนเชลซีต่อ/bltd7f0a739be6c6bfb   \n",
       "\n",
       "     n_gram  \n",
       "114    32.0  \n",
       "8      13.0  \n",
       "112    12.0  \n",
       "148    12.0  \n",
       "150    11.0  \n",
       "68     10.0  \n",
       "149     9.0  \n",
       "28      9.0  \n",
       "36      8.0  \n",
       "1       8.0  "
      ]
     },
     "execution_count": 4,
     "metadata": {},
     "output_type": "execute_result"
    }
   ],
   "source": [
    "%%time\n",
    "n_gram_data = manager.get_n_gram_data(\"เชลซี\")\n",
    "print(manager.word)\n",
    "n_gram_data[:10]"
   ]
  },
  {
   "cell_type": "code",
   "execution_count": 5,
   "id": "5c52a915",
   "metadata": {},
   "outputs": [
    {
     "name": "stdout",
     "output_type": "stream",
     "text": [
      "Barcelona\n",
      "Wall time: 4.16 s\n"
     ]
    },
    {
     "data": {
      "text/html": [
       "<div>\n",
       "<style scoped>\n",
       "    .dataframe tbody tr th:only-of-type {\n",
       "        vertical-align: middle;\n",
       "    }\n",
       "\n",
       "    .dataframe tbody tr th {\n",
       "        vertical-align: top;\n",
       "    }\n",
       "\n",
       "    .dataframe thead th {\n",
       "        text-align: right;\n",
       "    }\n",
       "</style>\n",
       "<table border=\"1\" class=\"dataframe\">\n",
       "  <thead>\n",
       "    <tr style=\"text-align: right;\">\n",
       "      <th></th>\n",
       "      <th>url</th>\n",
       "      <th>n_gram</th>\n",
       "    </tr>\n",
       "  </thead>\n",
       "  <tbody>\n",
       "    <tr>\n",
       "      <th>344</th>\n",
       "      <td>https://edition.cnn.com/2020/08/07/football/barcelona-napoli-champions-league-lionel-messi-spt-intl-cmd/index.html</td>\n",
       "      <td>92.0</td>\n",
       "    </tr>\n",
       "    <tr>\n",
       "      <th>353</th>\n",
       "      <td>https://edition.cnn.com/2015/06/06/football/champions-league-juventus-barcelona/index.html</td>\n",
       "      <td>62.0</td>\n",
       "    </tr>\n",
       "    <tr>\n",
       "      <th>350</th>\n",
       "      <td>https://www.dailymail.co.uk/sport/football/article-10605445/Barcelona-targeting-Robert-Lewandowski-Erling-Haaland-agrees-deal-Manchester-City.html</td>\n",
       "      <td>58.0</td>\n",
       "    </tr>\n",
       "    <tr>\n",
       "      <th>324</th>\n",
       "      <td>https://edition.cnn.com/2020/08/08/football/football-champions-league-barcelona-messi-bayern-munich/index.html</td>\n",
       "      <td>50.0</td>\n",
       "    </tr>\n",
       "    <tr>\n",
       "      <th>360</th>\n",
       "      <td>https://edition.cnn.com/2017/08/04/football/neymar-paris-saint-germain/index.html</td>\n",
       "      <td>49.0</td>\n",
       "    </tr>\n",
       "    <tr>\n",
       "      <th>272</th>\n",
       "      <td>https://www.dailymail.co.uk/sport/football/article-10605445/amp/Barcelona-targeting-Robert-Lewandowski-Erling-Haaland-agrees-deal-Manchester-City.html</td>\n",
       "      <td>43.0</td>\n",
       "    </tr>\n",
       "    <tr>\n",
       "      <th>321</th>\n",
       "      <td>https://edition.cnn.com/2020/08/14/football/bayern-munich-barcelona-champions-league-quarterfinal-spt-intl/index.html</td>\n",
       "      <td>39.0</td>\n",
       "    </tr>\n",
       "    <tr>\n",
       "      <th>332</th>\n",
       "      <td>https://edition.cnn.com/2020/08/15/football/barcelona-reaction-bayern-munich-champions-league-defeat-spt-intl/index.html</td>\n",
       "      <td>38.0</td>\n",
       "    </tr>\n",
       "    <tr>\n",
       "      <th>331</th>\n",
       "      <td>https://edition.cnn.com/2016/12/15/football/neymar-barcelona-messi-suarez/index.html</td>\n",
       "      <td>37.0</td>\n",
       "    </tr>\n",
       "    <tr>\n",
       "      <th>382</th>\n",
       "      <td>https://edition.cnn.com/2017/08/03/football/neymar-barcelona-psg-transfer/index.html</td>\n",
       "      <td>37.0</td>\n",
       "    </tr>\n",
       "  </tbody>\n",
       "</table>\n",
       "</div>"
      ],
      "text/plain": [
       "                                                                                                                                                        url  \\\n",
       "344                                      https://edition.cnn.com/2020/08/07/football/barcelona-napoli-champions-league-lionel-messi-spt-intl-cmd/index.html   \n",
       "353                                                              https://edition.cnn.com/2015/06/06/football/champions-league-juventus-barcelona/index.html   \n",
       "350      https://www.dailymail.co.uk/sport/football/article-10605445/Barcelona-targeting-Robert-Lewandowski-Erling-Haaland-agrees-deal-Manchester-City.html   \n",
       "324                                          https://edition.cnn.com/2020/08/08/football/football-champions-league-barcelona-messi-bayern-munich/index.html   \n",
       "360                                                                       https://edition.cnn.com/2017/08/04/football/neymar-paris-saint-germain/index.html   \n",
       "272  https://www.dailymail.co.uk/sport/football/article-10605445/amp/Barcelona-targeting-Robert-Lewandowski-Erling-Haaland-agrees-deal-Manchester-City.html   \n",
       "321                                   https://edition.cnn.com/2020/08/14/football/bayern-munich-barcelona-champions-league-quarterfinal-spt-intl/index.html   \n",
       "332                                https://edition.cnn.com/2020/08/15/football/barcelona-reaction-bayern-munich-champions-league-defeat-spt-intl/index.html   \n",
       "331                                                                    https://edition.cnn.com/2016/12/15/football/neymar-barcelona-messi-suarez/index.html   \n",
       "382                                                                    https://edition.cnn.com/2017/08/03/football/neymar-barcelona-psg-transfer/index.html   \n",
       "\n",
       "     n_gram  \n",
       "344    92.0  \n",
       "353    62.0  \n",
       "350    58.0  \n",
       "324    50.0  \n",
       "360    49.0  \n",
       "272    43.0  \n",
       "321    39.0  \n",
       "332    38.0  \n",
       "331    37.0  \n",
       "382    37.0  "
      ]
     },
     "execution_count": 5,
     "metadata": {},
     "output_type": "execute_result"
    }
   ],
   "source": [
    "%%time\n",
    "n_gram_data = manager.get_n_gram_data(\"Barcelona\")\n",
    "print(manager.word)\n",
    "n_gram_data[:10]"
   ]
  },
  {
   "cell_type": "code",
   "execution_count": 6,
   "id": "e102c458",
   "metadata": {},
   "outputs": [],
   "source": [
    "from ScrapManager import ScrapManager"
   ]
  },
  {
   "cell_type": "code",
   "execution_count": 7,
   "id": "06aca761",
   "metadata": {},
   "outputs": [
    {
     "name": "stdout",
     "output_type": "stream",
     "text": [
      "Wall time: 15.2 s\n"
     ]
    },
    {
     "data": {
      "text/html": [
       "<div>\n",
       "<style scoped>\n",
       "    .dataframe tbody tr th:only-of-type {\n",
       "        vertical-align: middle;\n",
       "    }\n",
       "\n",
       "    .dataframe tbody tr th {\n",
       "        vertical-align: top;\n",
       "    }\n",
       "\n",
       "    .dataframe thead th {\n",
       "        text-align: right;\n",
       "    }\n",
       "</style>\n",
       "<table border=\"1\" class=\"dataframe\">\n",
       "  <thead>\n",
       "    <tr style=\"text-align: right;\">\n",
       "      <th></th>\n",
       "      <th>url</th>\n",
       "      <th>header</th>\n",
       "      <th>content</th>\n",
       "    </tr>\n",
       "  </thead>\n",
       "  <tbody>\n",
       "    <tr>\n",
       "      <th>0</th>\n",
       "      <td>https://www.skysports.com/football/news/29326/12560525/kylian-mbappe-heir-apparent-to-cristiano-ronaldo-and-lionel-messi-as-worlds-best-player-says-gary-neville</td>\n",
       "      <td>Kylian Mbappe heir apparent to Cristiano Ronaldo and Lionel Messi as world's best player, says Gary Neville</td>\n",
       "      <td>Football \"Ronaldo and Messi are no longer the best players in the world. Mbappe knows silverware comes with greatness. Champions League and the World Cup would be the crowning glory for Mbappe to succeed them. Mbappe is at that level now,\" says Gary Neville Football Expert\\n              @GNev2 Thursday 10 March 2022 06:33, UK Kylian Mbappe can crown himself successor to Cristiano Ronaldo and Lionel Messi as the world's best player before the end of 2022, according to Gary Neville. For 15 years, the best-player-in-the-world debate has been dominated by two names - Ronaldo and Messi. The gl...</td>\n",
       "    </tr>\n",
       "    <tr>\n",
       "      <th>1</th>\n",
       "      <td>https://www.skysports.com/football/news/30778/12563174/cristiano-ronaldo-edinson-cavani-and-raphael-varane-set-to-return-for-man-utds-match-vs-tottenham</td>\n",
       "      <td>Ralf Rangnick: I don't know if Cristiano Ronaldo is happy; Marcus Rashford can consider future in summer</td>\n",
       "      <td>Football Cristiano Ronaldo, Edinson Cavani and Raphael Varane are all available for Manchester United's Premier League clash with Tottenham after missing Manchester derby last weekend; watch Man Utd vs Spurs live on Sky Sports Premier League from 5pm on Saturday Night Football; kick-off 5.30pm @DanSansom_ Saturday 12 March 2022 07:25, UK Please use Chrome browser for a more accessible video player  Cristiano Ronaldo is available for Manchester United's crucial Premier League clash with Tottenham on Saturday, live on Sky Sports, but Ralf Rangnick admits he does not know if the forward is ha...</td>\n",
       "    </tr>\n",
       "    <tr>\n",
       "      <th>2</th>\n",
       "      <td>https://www.skysports.com/football/news/11661/11779522/premier-league-goals-and-highlights-how-to-watch-with-sky-sports</td>\n",
       "      <td>Premier League goals, highlights and in-game clips: How to watch with Sky Sports</td>\n",
       "      <td>Football Highlights of every Premier League game this season to be shown on the Sky Sports website and app; users can also watch free in-game clips of Sky Sports games with a free Sky ID Saturday 15 January 2022 19:02, UK All you need to know to be able to watch highlights from every 2021/22 Premier League game with Sky Sports, plus free in-game clips. This season, you can watch highlights of all Premier League games with Sky Sports for free and without being a Sky Sports subscriber. We'll bring you highlights of every Premier League game on the Sky Sports website and app for the majority ...</td>\n",
       "    </tr>\n",
       "    <tr>\n",
       "      <th>3</th>\n",
       "      <td>https://www.skysports.com/football/news/topic/8246/exclusives-and-features</td>\n",
       "      <td>Football News</td>\n",
       "      <td>Manchester United Ona Batlle told Sky Sports how she has never been happier to be away from the Spanish sun and her dreams for the club this season. Hugo Lloris tells Sky Sports why calmness is required - inside and outside of the club - with Antonio Conte's revolution at Tottenham Hotspur. Arsenal have emerged as the new dominant force to secure a top-four finish - but upcoming visitors Leicester are enduring somewhat polarised form. Martin Odegaard's creativity is proving invaluable for Arsenal and the 23-year-old is helping Bukayo Saka shine. In an exclusive interview with Sky Sports, L...</td>\n",
       "    </tr>\n",
       "    <tr>\n",
       "      <th>4</th>\n",
       "      <td>https://www.skysports.com/football/news/11095/12563303/jurgen-klopp-i-feel-for-thomas-tuchel-and-chelseas-players-after-roman-abramovich-sanctioning</td>\n",
       "      <td>Jurgen Klopp: I feel for Thomas Tuchel and Chelsea's players after Roman Abramovich sanctioning</td>\n",
       "      <td>Football Premier League managers react to news of Roman Abramovich's sanctions; Klopp: \"I think what the government did is right to be honest\"; Everton boss and Chelsea's record goalscorer Frank Lampard offers sympathy to Blues fans; Ralf Rangnick says situation could not have been foreseen Football journalist -\\n              @Richiereds1976 Friday 11 March 2022 18:17, UK Please use Chrome browser for a more accessible video player  Liverpool manager Jurgen Klopp has backed the government's decision to sanction Chelsea owner Roman Abramovich, but admits he feels sorry for the club and Tho...</td>\n",
       "    </tr>\n",
       "    <tr>\n",
       "      <th>5</th>\n",
       "      <td>https://www.skysports.com/football/news/11095/12500807/marcelo-bielsas-reluctance-to-adapt-reminiscent-of-arsene-wengers-latter-years-at-arsenal-says-paul-merson</td>\n",
       "      <td>Marcelo Bielsa's reluctance to adapt reminiscent of Arsene Wenger's latter years at Arsenal, says Paul Merson</td>\n",
       "      <td>Football Leeds comprehensively beaten by Arsenal as pressure continues to pile on Marcelo Bielsa; Gabriel Martinelli scores twice as Gunners secure place in top four for Christmas; Chelsea left six points behind leaders Man City as Premier League rejects Wolves postponement request Football Expert &amp; Columnist\\n              @PaulMerse Tuesday 21 December 2021 11:48, UK In his latest Sky Sports column, Paul Merson assesses Marcelo Bielsa's refusal to deviate from his footballing principles, how Gabriel Martinelli's return to form is akin to a big-money signing, and why Covid and injuries ma...</td>\n",
       "    </tr>\n",
       "    <tr>\n",
       "      <th>6</th>\n",
       "      <td>https://www.skysports.com/football/news/11668/12560040/roman-abramovich-selling-chelsea-what-is-the-latest-what-potential-problems-are-holding-a-deal-up</td>\n",
       "      <td>Roman Abramovich selling Chelsea: What is the latest? What potential problems are holding a deal up?</td>\n",
       "      <td>Football Is Roman Abramovich's £3billion asking price for Chelsea proving a stumbling block? What are the potential problems holding up a deal? Who is the frontrunner to buy? Sky Sports News Chief Reporter Monday 7 March 2022 19:48, UK Sky Sports News' chief reporter Kaveh Solhekol answers the most pressing questions as Chelsea's ownership saga rumbles on for another week. Up to 10 parties are considering making bids for Chelsea, with investment bankers working on the sale expecting most of the interest to come from the USA. Read on for Kaveh's full analysis as he tackles the key questions...</td>\n",
       "    </tr>\n",
       "    <tr>\n",
       "      <th>7</th>\n",
       "      <td>https://www.skysports.com/football/news/topic/10081/roman-abramovich-sanctioned</td>\n",
       "      <td>Football News</td>\n",
       "      <td>Kaveh Solhekol joined The Essential Football Podcast to answer all the important questions after the UK Government sanctioned Chelsea owner Roman Abramovich. Chelsea boss Thomas Tuchel says it is \"hard to focus only on football\" amid Russia's invasion of Ukraine and feels \"very privileged\" to be a Premier League coach. Football finance expert Rob Wilson says that Chelsea will have to sell a number of players in the summer even with potential new buyers of the club coming in. The Athletic's David Ornstein tells The Early Kick Off that the sanctions imposed on Roman Abramovich could spell th...</td>\n",
       "    </tr>\n",
       "    <tr>\n",
       "      <th>8</th>\n",
       "      <td>https://www.skysports.com/football/news/21564/11779522/premier-league-goals-and-highlights-how-to-watch-with-sky-sports</td>\n",
       "      <td>Premier League goals, highlights and in-game clips: How to watch with Sky Sports</td>\n",
       "      <td>Football Highlights of every Premier League game this season to be shown on the Sky Sports website and app; users can also watch free in-game clips of Sky Sports games with a free Sky ID Saturday 15 January 2022 19:02, UK All you need to know to be able to watch highlights from every 2021/22 Premier League game with Sky Sports, plus free in-game clips. This season, you can watch highlights of all Premier League games with Sky Sports for free and without being a Sky Sports subscriber. We'll bring you highlights of every Premier League game on the Sky Sports website and app for the majority ...</td>\n",
       "    </tr>\n",
       "    <tr>\n",
       "      <th>9</th>\n",
       "      <td>https://www.skysports.com/football/news/30964/12562229/premier-league-predictions-jones-knows-says-brighton-can-stop-liverpools-winning-run</td>\n",
       "      <td>Premier League predictions: Jones Knows says Brighton can stop Liverpool's winning run</td>\n",
       "      <td>Football Match highlights of every Premier League game this season to be shown on the Sky Sports website and app; watch Manchester United vs Tottenham, Chelsea vs Newcastle, Leicester vs Arsenal and Crystal Palace vs Man City all live on Sky Sports; play Super 6 on Saturday @_LJones_ Saturday 12 March 2022 08:51, UK Let our tipster Jones Knows guide your through a busy Premier League weekend with his array of insight, analysis, tips and predictions. When plotting their way through the run-in, Liverpool fans will have had a circle around this fixture as a potential hiccup. Even though they ...</td>\n",
       "    </tr>\n",
       "  </tbody>\n",
       "</table>\n",
       "</div>"
      ],
      "text/plain": [
       "                                                                                                                                                                 url  \\\n",
       "0   https://www.skysports.com/football/news/29326/12560525/kylian-mbappe-heir-apparent-to-cristiano-ronaldo-and-lionel-messi-as-worlds-best-player-says-gary-neville   \n",
       "1           https://www.skysports.com/football/news/30778/12563174/cristiano-ronaldo-edinson-cavani-and-raphael-varane-set-to-return-for-man-utds-match-vs-tottenham   \n",
       "2                                            https://www.skysports.com/football/news/11661/11779522/premier-league-goals-and-highlights-how-to-watch-with-sky-sports   \n",
       "3                                                                                         https://www.skysports.com/football/news/topic/8246/exclusives-and-features   \n",
       "4               https://www.skysports.com/football/news/11095/12563303/jurgen-klopp-i-feel-for-thomas-tuchel-and-chelseas-players-after-roman-abramovich-sanctioning   \n",
       "5  https://www.skysports.com/football/news/11095/12500807/marcelo-bielsas-reluctance-to-adapt-reminiscent-of-arsene-wengers-latter-years-at-arsenal-says-paul-merson   \n",
       "6           https://www.skysports.com/football/news/11668/12560040/roman-abramovich-selling-chelsea-what-is-the-latest-what-potential-problems-are-holding-a-deal-up   \n",
       "7                                                                                    https://www.skysports.com/football/news/topic/10081/roman-abramovich-sanctioned   \n",
       "8                                            https://www.skysports.com/football/news/21564/11779522/premier-league-goals-and-highlights-how-to-watch-with-sky-sports   \n",
       "9                        https://www.skysports.com/football/news/30964/12562229/premier-league-predictions-jones-knows-says-brighton-can-stop-liverpools-winning-run   \n",
       "\n",
       "                                                                                                           header  \\\n",
       "0    Kylian Mbappe heir apparent to Cristiano Ronaldo and Lionel Messi as world's best player, says Gary Neville    \n",
       "1       Ralf Rangnick: I don't know if Cristiano Ronaldo is happy; Marcus Rashford can consider future in summer    \n",
       "2                               Premier League goals, highlights and in-game clips: How to watch with Sky Sports    \n",
       "3                                                                                                  Football News    \n",
       "4                Jurgen Klopp: I feel for Thomas Tuchel and Chelsea's players after Roman Abramovich sanctioning    \n",
       "5  Marcelo Bielsa's reluctance to adapt reminiscent of Arsene Wenger's latter years at Arsenal, says Paul Merson    \n",
       "6           Roman Abramovich selling Chelsea: What is the latest? What potential problems are holding a deal up?    \n",
       "7                                                                                                  Football News    \n",
       "8                               Premier League goals, highlights and in-game clips: How to watch with Sky Sports    \n",
       "9                         Premier League predictions: Jones Knows says Brighton can stop Liverpool's winning run    \n",
       "\n",
       "                                                                                                                                                                                                                                                                                                                                                                                                                                                                                                                                                                                                                   content  \n",
       "0  Football \"Ronaldo and Messi are no longer the best players in the world. Mbappe knows silverware comes with greatness. Champions League and the World Cup would be the crowning glory for Mbappe to succeed them. Mbappe is at that level now,\" says Gary Neville Football Expert\\n              @GNev2 Thursday 10 March 2022 06:33, UK Kylian Mbappe can crown himself successor to Cristiano Ronaldo and Lionel Messi as the world's best player before the end of 2022, according to Gary Neville. For 15 years, the best-player-in-the-world debate has been dominated by two names - Ronaldo and Messi. The gl...  \n",
       "1  Football Cristiano Ronaldo, Edinson Cavani and Raphael Varane are all available for Manchester United's Premier League clash with Tottenham after missing Manchester derby last weekend; watch Man Utd vs Spurs live on Sky Sports Premier League from 5pm on Saturday Night Football; kick-off 5.30pm @DanSansom_ Saturday 12 March 2022 07:25, UK Please use Chrome browser for a more accessible video player  Cristiano Ronaldo is available for Manchester United's crucial Premier League clash with Tottenham on Saturday, live on Sky Sports, but Ralf Rangnick admits he does not know if the forward is ha...  \n",
       "2  Football Highlights of every Premier League game this season to be shown on the Sky Sports website and app; users can also watch free in-game clips of Sky Sports games with a free Sky ID Saturday 15 January 2022 19:02, UK All you need to know to be able to watch highlights from every 2021/22 Premier League game with Sky Sports, plus free in-game clips. This season, you can watch highlights of all Premier League games with Sky Sports for free and without being a Sky Sports subscriber. We'll bring you highlights of every Premier League game on the Sky Sports website and app for the majority ...  \n",
       "3  Manchester United Ona Batlle told Sky Sports how she has never been happier to be away from the Spanish sun and her dreams for the club this season. Hugo Lloris tells Sky Sports why calmness is required - inside and outside of the club - with Antonio Conte's revolution at Tottenham Hotspur. Arsenal have emerged as the new dominant force to secure a top-four finish - but upcoming visitors Leicester are enduring somewhat polarised form. Martin Odegaard's creativity is proving invaluable for Arsenal and the 23-year-old is helping Bukayo Saka shine. In an exclusive interview with Sky Sports, L...  \n",
       "4  Football Premier League managers react to news of Roman Abramovich's sanctions; Klopp: \"I think what the government did is right to be honest\"; Everton boss and Chelsea's record goalscorer Frank Lampard offers sympathy to Blues fans; Ralf Rangnick says situation could not have been foreseen Football journalist -\\n              @Richiereds1976 Friday 11 March 2022 18:17, UK Please use Chrome browser for a more accessible video player  Liverpool manager Jurgen Klopp has backed the government's decision to sanction Chelsea owner Roman Abramovich, but admits he feels sorry for the club and Tho...  \n",
       "5  Football Leeds comprehensively beaten by Arsenal as pressure continues to pile on Marcelo Bielsa; Gabriel Martinelli scores twice as Gunners secure place in top four for Christmas; Chelsea left six points behind leaders Man City as Premier League rejects Wolves postponement request Football Expert & Columnist\\n              @PaulMerse Tuesday 21 December 2021 11:48, UK In his latest Sky Sports column, Paul Merson assesses Marcelo Bielsa's refusal to deviate from his footballing principles, how Gabriel Martinelli's return to form is akin to a big-money signing, and why Covid and injuries ma...  \n",
       "6  Football Is Roman Abramovich's £3billion asking price for Chelsea proving a stumbling block? What are the potential problems holding up a deal? Who is the frontrunner to buy? Sky Sports News Chief Reporter Monday 7 March 2022 19:48, UK Sky Sports News' chief reporter Kaveh Solhekol answers the most pressing questions as Chelsea's ownership saga rumbles on for another week. Up to 10 parties are considering making bids for Chelsea, with investment bankers working on the sale expecting most of the interest to come from the USA. Read on for Kaveh's full analysis as he tackles the key questions...  \n",
       "7  Kaveh Solhekol joined The Essential Football Podcast to answer all the important questions after the UK Government sanctioned Chelsea owner Roman Abramovich. Chelsea boss Thomas Tuchel says it is \"hard to focus only on football\" amid Russia's invasion of Ukraine and feels \"very privileged\" to be a Premier League coach. Football finance expert Rob Wilson says that Chelsea will have to sell a number of players in the summer even with potential new buyers of the club coming in. The Athletic's David Ornstein tells The Early Kick Off that the sanctions imposed on Roman Abramovich could spell th...  \n",
       "8  Football Highlights of every Premier League game this season to be shown on the Sky Sports website and app; users can also watch free in-game clips of Sky Sports games with a free Sky ID Saturday 15 January 2022 19:02, UK All you need to know to be able to watch highlights from every 2021/22 Premier League game with Sky Sports, plus free in-game clips. This season, you can watch highlights of all Premier League games with Sky Sports for free and without being a Sky Sports subscriber. We'll bring you highlights of every Premier League game on the Sky Sports website and app for the majority ...  \n",
       "9  Football Match highlights of every Premier League game this season to be shown on the Sky Sports website and app; watch Manchester United vs Tottenham, Chelsea vs Newcastle, Leicester vs Arsenal and Crystal Palace vs Man City all live on Sky Sports; play Super 6 on Saturday @_LJones_ Saturday 12 March 2022 08:51, UK Let our tipster Jones Knows guide your through a busy Premier League weekend with his array of insight, analysis, tips and predictions. When plotting their way through the run-in, Liverpool fans will have had a circle around this fixture as a potential hiccup. Even though they ...  "
      ]
     },
     "execution_count": 7,
     "metadata": {},
     "output_type": "execute_result"
    }
   ],
   "source": [
    "%%time\n",
    "s_manager = ScrapManager()\n",
    "data = s_manager.get_all_data()\n",
    "data[:10]"
   ]
  },
  {
   "cell_type": "code",
   "execution_count": 9,
   "id": "877c3178",
   "metadata": {},
   "outputs": [],
   "source": [
    "from WordManager import WordManager\n",
    "from collections import Counter\n",
    "\n",
    "w_manager = WordManager()"
   ]
  },
  {
   "cell_type": "code",
   "execution_count": 10,
   "id": "9b85c284",
   "metadata": {},
   "outputs": [
    {
     "name": "stdout",
     "output_type": "stream",
     "text": [
      "[('Sky', 136), ('League', 96), ('Premier', 87), ('Sports', 82), ('Chelsea', 69), ('Ronaldo', 38), ('Everton', 36), ('Abramovich', 33), ('Football', 32), ('City', 30)]\n"
     ]
    }
   ],
   "source": [
    "n = []\n",
    "for url, content in data.loc[:10, ['url', 'content']].values:\n",
    "    n += w_manager.get_nouns(content)\n",
    "c = Counter(n)\n",
    "print(c.most_common(10))"
   ]
  },
  {
   "cell_type": "code",
   "execution_count": 15,
   "id": "f5e05505",
   "metadata": {},
   "outputs": [
    {
     "name": "stdout",
     "output_type": "stream",
     "text": [
      "Liverpool\n"
     ]
    },
    {
     "data": {
      "text/html": [
       "<div>\n",
       "<style scoped>\n",
       "    .dataframe tbody tr th:only-of-type {\n",
       "        vertical-align: middle;\n",
       "    }\n",
       "\n",
       "    .dataframe tbody tr th {\n",
       "        vertical-align: top;\n",
       "    }\n",
       "\n",
       "    .dataframe thead th {\n",
       "        text-align: right;\n",
       "    }\n",
       "</style>\n",
       "<table border=\"1\" class=\"dataframe\">\n",
       "  <thead>\n",
       "    <tr style=\"text-align: right;\">\n",
       "      <th></th>\n",
       "      <th>url</th>\n",
       "      <th>n_gram</th>\n",
       "    </tr>\n",
       "  </thead>\n",
       "  <tbody>\n",
       "    <tr>\n",
       "      <th>372</th>\n",
       "      <td>https://www.dailymail.co.uk/sport/football/article-10605297/Liverpool-boss-Jurgen-Klopp-hails-Joel-Matip-Premier-League-award.html</td>\n",
       "      <td>112.0</td>\n",
       "    </tr>\n",
       "    <tr>\n",
       "      <th>343</th>\n",
       "      <td>https://www.dailymail.co.uk/sport/football/article-10602573/Liverpool-defender-Joel-Matip-wins-Premier-League-Player-Month.html</td>\n",
       "      <td>94.0</td>\n",
       "    </tr>\n",
       "    <tr>\n",
       "      <th>227</th>\n",
       "      <td>https://www.dailymail.co.uk/sport/football/article-10605297/amp/Liverpool-boss-Jurgen-Klopp-hails-Joel-Matip-Premier-League-award.html</td>\n",
       "      <td>82.0</td>\n",
       "    </tr>\n",
       "    <tr>\n",
       "      <th>23</th>\n",
       "      <td>https://www.skysports.com/football/news/11096/12557036/luis-diaz-analysis-of-liverpool-winger-after-carabao-cup-win-over-chelsea</td>\n",
       "      <td>80.0</td>\n",
       "    </tr>\n",
       "    <tr>\n",
       "      <th>81</th>\n",
       "      <td>https://www.skysports.com/football/news/11669/12557150/ibrahima-konate-when-liverpool-manager-jurgen-klopp-calls-you-listen</td>\n",
       "      <td>80.0</td>\n",
       "    </tr>\n",
       "  </tbody>\n",
       "</table>\n",
       "</div>"
      ],
      "text/plain": [
       "                                                                                                                                        url  \\\n",
       "372      https://www.dailymail.co.uk/sport/football/article-10605297/Liverpool-boss-Jurgen-Klopp-hails-Joel-Matip-Premier-League-award.html   \n",
       "343         https://www.dailymail.co.uk/sport/football/article-10602573/Liverpool-defender-Joel-Matip-wins-Premier-League-Player-Month.html   \n",
       "227  https://www.dailymail.co.uk/sport/football/article-10605297/amp/Liverpool-boss-Jurgen-Klopp-hails-Joel-Matip-Premier-League-award.html   \n",
       "23         https://www.skysports.com/football/news/11096/12557036/luis-diaz-analysis-of-liverpool-winger-after-carabao-cup-win-over-chelsea   \n",
       "81              https://www.skysports.com/football/news/11669/12557150/ibrahima-konate-when-liverpool-manager-jurgen-klopp-calls-you-listen   \n",
       "\n",
       "     n_gram  \n",
       "372   112.0  \n",
       "343    94.0  \n",
       "227    82.0  \n",
       "23     80.0  \n",
       "81     80.0  "
      ]
     },
     "execution_count": 15,
     "metadata": {},
     "output_type": "execute_result"
    }
   ],
   "source": [
    "n_gram_data = manager.get_n_gram_data(\"Liverpool\")\n",
    "print(manager.word)\n",
    "n_gram_data[:5]"
   ]
  },
  {
   "cell_type": "code",
   "execution_count": 16,
   "id": "7cb69e04",
   "metadata": {},
   "outputs": [
    {
     "name": "stdout",
     "output_type": "stream",
     "text": [
      "[('Liverpool', 49), ('League', 20), ('Premier', 17), ('Sky', 13), ('Konate', 13), ('Saturday', 11), ('Diaz', 9), ('Sports', 9), ('Klopp', 9), ('Salah', 9)]\n"
     ]
    }
   ],
   "source": [
    "top_ten_link = n_gram_data['url'][:10].values\n",
    "n_data = s_manager.get_all_data(top_ten_link)\n",
    "n = []\n",
    "for url, content in n_data.loc[:, ['url', 'content']].values:\n",
    "    n += w_manager.get_nouns(content)\n",
    "c = Counter(n)\n",
    "print(c.most_common(10))"
   ]
  },
  {
   "cell_type": "code",
   "execution_count": null,
   "id": "abe97687",
   "metadata": {},
   "outputs": [],
   "source": []
  }
 ],
 "metadata": {
  "kernelspec": {
   "display_name": "Python 3 (ipykernel)",
   "language": "python",
   "name": "python3"
  },
  "language_info": {
   "codemirror_mode": {
    "name": "ipython",
    "version": 3
   },
   "file_extension": ".py",
   "mimetype": "text/x-python",
   "name": "python",
   "nbconvert_exporter": "python",
   "pygments_lexer": "ipython3",
   "version": "3.9.7"
  }
 },
 "nbformat": 4,
 "nbformat_minor": 5
}
