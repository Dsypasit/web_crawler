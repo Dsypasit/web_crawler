{
 "cells": [
  {
   "cell_type": "code",
   "execution_count": 1,
   "id": "01bb7f4a",
   "metadata": {},
   "outputs": [],
   "source": [
    "from CrawlerManager import CrawlerManager\n",
    "manager = CrawlerManager()"
   ]
  },
  {
   "cell_type": "code",
   "execution_count": 2,
   "id": "57eda205",
   "metadata": {
    "scrolled": true
   },
   "outputs": [
    {
     "name": "stdout",
     "output_type": "stream",
     "text": [
      "https://www.goal.com/th success 7.231421232223511\n",
      "https://www.skysports.com/football success 9.087651252746582\n",
      "https://www.siamsport.co.th/football/international success 9.107649803161621\n",
      "https://www.bbc.com/sport/football success 9.56365704536438\n",
      "https://www.dailymail.co.uk/sport/football success 9.693657398223877\n",
      "https://edition.cnn.com/sport/football success 11.440882682800293\n",
      "0                           https://www.goal.com/th/ข่าว/นอริช-เชลซี-ข่าวล่าสุด-เวลาแข่ง-ช่องถ่ายทอดสด/blt06f522b9d3d0583d\n",
      "1                          https://www.goal.com/th/ข่าว/live-update-ยูโรป้า-ลีก-บาร์เซโลนา-กาลาตาซาราย/bltc971ae63059f5cc8\n",
      "2             https://www.goal.com/th/ข่าว/นัด-2-งานสบาย-เลสเตอร์เปิดบ้านเชือดแรนส์-2-0-คอนเฟอเรนซ์-16/blte0293dfad8356691\n",
      "3              https://www.goal.com/th/ข่าว/มูนีร์วอลเลย์หาย-เซบีญาบดเวสต์แฮม-1-0-ยูโรป้า-16-ทีมนัดแรก/blt55a076a2b4448c2f\n",
      "4                                     https://www.goal.com/th/ข่าว/สรุปประเด็น-เชลซีโดนผลกระทบอะไรบ้าง/bltde22a5b972876413\n",
      "5                         https://www.goal.com/th/ข่าว/three-ระงับการสนับสนุนเชลซี-เอาโลโก้ออกจากเสื้อ/blt6526eaee2c1196d4\n",
      "6     https://www.goal.com/th/ข่าว/โปรแกรมถ่ายทอดสดฟุตบอล-พรีเมียร์ลีก-ไทยลีก-ลาลีกา-บุนเดสลีกา/1avl5byctg48z1tjl9y0cu9ro2\n",
      "7                                                           https://www.goal.com/th/ข่าว/เสียงข้างสนาม/bltb8e05a6efc7bb3c7\n",
      "8                    https://www.goal.com/th/ลิสต์/ยุคบุกเบิก-แมนฯซิตี้-ซื้อใครบ้างในฤดูกาลแรก-หลังชีค/blt2e7429318e8208ef\n",
      "9           https://www.goal.com/th/ลิสต์/จาก-1-ถึง-176-เพื่อนร่วมทีม-แฮร์รี-เคน-ยิงลูกแรกพรีเมียร์ลีก/bltc06a756710aea1a0\n",
      "10                       https://www.goal.com/th/ลิสต์/ปีเดียว-13-แบบ-รวมชุดแข่งนาโปลีฤดูกาล-2021-2022/blt594b3fa24e1ee0f6\n",
      "11                    https://www.goal.com/th/ข่าว/หนุนเชฟเชนโก้-มิลานเปิดตัวชุดพิเศษระดมทุนช่วยยูเครน/blt70632c2d49d84078\n",
      "12                 https://www.goal.com/th/ข่าว/แมนฯยูไนเต็ด-สเปอร์ส-ข่าวล่าสุด-เวลาแข่ง-ช่องถ่ายทอดสด/blt78a76f84191fbf2a\n",
      "13           https://www.goal.com/th/ข่าว/ยุคใหม่โค้ชเกาหลี-มาเลเซียดึง-ซาฟิค-รอฮีม-คืนทีมชาติในวัย-34/blt869eb226902493ce\n",
      "14                https://www.goal.com/th/ข่าว/บุกดวลช้างศึก-เนปาล-ประกาศ-25-แข้งอุ่นเครื่องฟีฟ่า-เดย์/blt234383756e35cc77\n",
      "15                              https://www.goal.com/th/ข่าว/มีทางแก้-อดีต-ปธ-พาเลซ-อธิบายวิธีขายเชลซี/blt82606515b7c28ada\n",
      "16                https://www.goal.com/th/ข่าว/โปรแกรมมังกรฟ้า-ลีก-t3-เมืองเลยท้าชนพิษณุโลก-นครศรีซัดม/blta75c4d84ea25c3d0\n",
      "17                  https://www.goal.com/th/ข่าว/ไบรท์ตัน-ลิเวอร์พูล-ข่าวล่าสุด-เวลาแข่ง-ช่องถ่ายทอดสด/blt3c2e8418c65de12f\n",
      "18           https://www.goal.com/th/ข่าว/คนสนิทปูติน-นายกเทศมนตรีลอนดอนเห็นด้วยอายัดทรัพย์-อับราโมวิช/blt700d9adbf1d91649\n",
      "19                         https://www.goal.com/th/ข่าว/เจอกันกามา-บุรีรัมย์ลัดฟ้าบุกเกาหลีพร้อมชนแดกู/blt2adc15508be8d32e\n",
      "dtype: object\n",
      "Wall time: 11.5 s\n"
     ]
    }
   ],
   "source": [
    "%%time\n",
    "links = manager.get_all_links()\n",
    "print(links[:20])"
   ]
  },
  {
   "cell_type": "code",
   "execution_count": 3,
   "id": "60d5dbef",
   "metadata": {},
   "outputs": [
    {
     "name": "stdout",
     "output_type": "stream",
     "text": [
      "431\n"
     ]
    }
   ],
   "source": [
    "print(len(links))"
   ]
  },
  {
   "cell_type": "code",
   "execution_count": 11,
   "id": "5c52a915",
   "metadata": {},
   "outputs": [
    {
     "name": "stdout",
     "output_type": "stream",
     "text": [
      "Barcelona\n",
      "Wall time: 4.1 s\n"
     ]
    },
    {
     "data": {
      "text/html": [
       "<div>\n",
       "<style scoped>\n",
       "    .dataframe tbody tr th:only-of-type {\n",
       "        vertical-align: middle;\n",
       "    }\n",
       "\n",
       "    .dataframe tbody tr th {\n",
       "        vertical-align: top;\n",
       "    }\n",
       "\n",
       "    .dataframe thead th {\n",
       "        text-align: right;\n",
       "    }\n",
       "</style>\n",
       "<table border=\"1\" class=\"dataframe\">\n",
       "  <thead>\n",
       "    <tr style=\"text-align: right;\">\n",
       "      <th></th>\n",
       "      <th>url</th>\n",
       "      <th>n_gram</th>\n",
       "    </tr>\n",
       "  </thead>\n",
       "  <tbody>\n",
       "    <tr>\n",
       "      <th>407</th>\n",
       "      <td>https://edition.cnn.com/2020/08/07/football/barcelona-napoli-champions-league-lionel-messi-spt-intl-cmd/index.html</td>\n",
       "      <td>92.0</td>\n",
       "    </tr>\n",
       "    <tr>\n",
       "      <th>361</th>\n",
       "      <td>https://www.dailymail.co.uk/sport/football/article-10600183/Barcelona-0-0-Galatasaray-Xavis-kept-loan-goalkeeper-Inaki-Pena-leg-draw.html</td>\n",
       "      <td>79.0</td>\n",
       "    </tr>\n",
       "    <tr>\n",
       "      <th>280</th>\n",
       "      <td>https://www.dailymail.co.uk/sport/football/article-10600183/amp/Barcelona-0-0-Galatasaray-Xavis-kept-loan-goalkeeper-Inaki-Pena-leg-draw.html</td>\n",
       "      <td>65.0</td>\n",
       "    </tr>\n",
       "    <tr>\n",
       "      <th>396</th>\n",
       "      <td>https://edition.cnn.com/2015/06/06/football/champions-league-juventus-barcelona/index.html</td>\n",
       "      <td>62.0</td>\n",
       "    </tr>\n",
       "    <tr>\n",
       "      <th>397</th>\n",
       "      <td>https://edition.cnn.com/2020/08/08/football/football-champions-league-barcelona-messi-bayern-munich/index.html</td>\n",
       "      <td>50.0</td>\n",
       "    </tr>\n",
       "    <tr>\n",
       "      <th>428</th>\n",
       "      <td>https://edition.cnn.com/2017/08/04/football/neymar-paris-saint-germain/index.html</td>\n",
       "      <td>49.0</td>\n",
       "    </tr>\n",
       "    <tr>\n",
       "      <th>382</th>\n",
       "      <td>https://edition.cnn.com/2020/08/14/football/bayern-munich-barcelona-champions-league-quarterfinal-spt-intl/index.html</td>\n",
       "      <td>39.0</td>\n",
       "    </tr>\n",
       "    <tr>\n",
       "      <th>400</th>\n",
       "      <td>https://edition.cnn.com/2020/08/15/football/barcelona-reaction-bayern-munich-champions-league-defeat-spt-intl/index.html</td>\n",
       "      <td>38.0</td>\n",
       "    </tr>\n",
       "    <tr>\n",
       "      <th>427</th>\n",
       "      <td>https://edition.cnn.com/2017/08/03/football/neymar-barcelona-psg-transfer/index.html</td>\n",
       "      <td>37.0</td>\n",
       "    </tr>\n",
       "    <tr>\n",
       "      <th>412</th>\n",
       "      <td>https://edition.cnn.com/2016/12/15/football/neymar-barcelona-messi-suarez/index.html</td>\n",
       "      <td>37.0</td>\n",
       "    </tr>\n",
       "  </tbody>\n",
       "</table>\n",
       "</div>"
      ],
      "text/plain": [
       "                                                                                                                                               url  \\\n",
       "407                             https://edition.cnn.com/2020/08/07/football/barcelona-napoli-champions-league-lionel-messi-spt-intl-cmd/index.html   \n",
       "361      https://www.dailymail.co.uk/sport/football/article-10600183/Barcelona-0-0-Galatasaray-Xavis-kept-loan-goalkeeper-Inaki-Pena-leg-draw.html   \n",
       "280  https://www.dailymail.co.uk/sport/football/article-10600183/amp/Barcelona-0-0-Galatasaray-Xavis-kept-loan-goalkeeper-Inaki-Pena-leg-draw.html   \n",
       "396                                                     https://edition.cnn.com/2015/06/06/football/champions-league-juventus-barcelona/index.html   \n",
       "397                                 https://edition.cnn.com/2020/08/08/football/football-champions-league-barcelona-messi-bayern-munich/index.html   \n",
       "428                                                              https://edition.cnn.com/2017/08/04/football/neymar-paris-saint-germain/index.html   \n",
       "382                          https://edition.cnn.com/2020/08/14/football/bayern-munich-barcelona-champions-league-quarterfinal-spt-intl/index.html   \n",
       "400                       https://edition.cnn.com/2020/08/15/football/barcelona-reaction-bayern-munich-champions-league-defeat-spt-intl/index.html   \n",
       "427                                                           https://edition.cnn.com/2017/08/03/football/neymar-barcelona-psg-transfer/index.html   \n",
       "412                                                           https://edition.cnn.com/2016/12/15/football/neymar-barcelona-messi-suarez/index.html   \n",
       "\n",
       "     n_gram  \n",
       "407    92.0  \n",
       "361    79.0  \n",
       "280    65.0  \n",
       "396    62.0  \n",
       "397    50.0  \n",
       "428    49.0  \n",
       "382    39.0  \n",
       "400    38.0  \n",
       "427    37.0  \n",
       "412    37.0  "
      ]
     },
     "execution_count": 11,
     "metadata": {},
     "output_type": "execute_result"
    }
   ],
   "source": [
    "%%time\n",
    "n_gram_data = manager.get_n_gram_data(\"Barcelona\")\n",
    "print(manager.word)\n",
    "n_gram_data[:10]"
   ]
  },
  {
   "cell_type": "code",
   "execution_count": 5,
   "id": "e102c458",
   "metadata": {},
   "outputs": [],
   "source": [
    "from ScrapManager import ScrapManager"
   ]
  },
  {
   "cell_type": "code",
   "execution_count": 6,
   "id": "06aca761",
   "metadata": {},
   "outputs": [
    {
     "name": "stdout",
     "output_type": "stream",
     "text": [
      "Wall time: 18.8 s\n"
     ]
    },
    {
     "data": {
      "text/html": [
       "<div>\n",
       "<style scoped>\n",
       "    .dataframe tbody tr th:only-of-type {\n",
       "        vertical-align: middle;\n",
       "    }\n",
       "\n",
       "    .dataframe tbody tr th {\n",
       "        vertical-align: top;\n",
       "    }\n",
       "\n",
       "    .dataframe thead th {\n",
       "        text-align: right;\n",
       "    }\n",
       "</style>\n",
       "<table border=\"1\" class=\"dataframe\">\n",
       "  <thead>\n",
       "    <tr style=\"text-align: right;\">\n",
       "      <th></th>\n",
       "      <th>url</th>\n",
       "      <th>header</th>\n",
       "      <th>content</th>\n",
       "    </tr>\n",
       "  </thead>\n",
       "  <tbody>\n",
       "    <tr>\n",
       "      <th>0</th>\n",
       "      <td>https://www.skysports.com/football/news/11095/12474503/manchester-united-gary-neville-reacts-to-ole-gunnar-solskjaer-sacking</td>\n",
       "      <td>Manchester United: Gary Neville reacts to Ole Gunnar Solskjaer sacking</td>\n",
       "      <td>Football Gary Neville: \"Ole could not get a performance out of them in the end\"; Solskjaer sacked after 4-1 Watford defeat; Man Utd 12 points off pace in Premier League; Norwegian led United to third and second-place finishes in league during his two full seasons in charge but failed to win trophy Football Expert\\n              @GNev2 Sunday 21 November 2021 21:11, UK Gary Neville has admitted Ole Gunnar Solskjaer's sacking had become an inevitability after Manchester United's collapse in form reached a new low in their 4-1 defeat at Watford. Neville has refused to call for Solskjaer's dis...</td>\n",
       "    </tr>\n",
       "    <tr>\n",
       "      <th>1</th>\n",
       "      <td>https://www.skysports.com/football/news/11670/12557127/mikel-arteta-exclusive-interview-arsenal-boss-on-emirates-stadium-connection-pierre-emerick-aubameyang-exit-and-why-this-summer-is-so-important</td>\n",
       "      <td>Mikel Arteta exclusive interview: Arsenal boss on Emirates Stadium connection, Pierre-Emerick Aubameyang exit and why this summer is so important</td>\n",
       "      <td>Football Mikel Arteta opens up to Sky Sports' Nick Wright about turning the Emirates into a fortress, letting Pierre-Emerick Aubameyang go, and planning for a big summer; watch Watford vs Arsenal live on Sky Sports Premier League from 1pm on Sunday; kick-off 2pm Comment and Analysis\\n              @nicholaspwright Sunday 6 March 2022 20:54, UK Mikel Arteta is becoming animated, eyes widening and hands gesticulating enthusiastically as our conversation turns to the connection between his team and the Arsenal supporters. The 39-year-old is known for staying cool and composed during his media...</td>\n",
       "    </tr>\n",
       "    <tr>\n",
       "      <th>2</th>\n",
       "      <td>https://www.goal.com/th/ข่าว/เปลี่ยนหลายตําแหน่ง-เทกุระโมริ-เผยเหตุขนสํารองลงยิงปราการ/blta915e3417db1da8d</td>\n",
       "      <td>เปลี่ยนหลายตำแหน่ง! เทกุระโมริ เผยเหตุขนสำรองลงยิงปราการ</td>\n",
       "      <td>มาโกโตะ เทกุระโมริ กุนซือ บีจี ปทุม ยูไนเต็ด พอใจกับผลงานโดยรวมของทีม แม้จะยังมีติดขัดในเกมที่บุกชนะ สมุทรปราการ ซิตี้ 2-0 ในรีโว่ ไทยลีก 2021/22 เมื่อวันที่ 9 มี.ค. ที่ผ่านมา  เฮดโค้ชชาวญี่ปุ่น ตัดสินใจส่งผู้เล่นสำรองลงสนามหลายตำแหน่ง นำโดย วิคเตอร์ คาร์โดโซ ปราการหลังชาวบราซิลที่กลับมายืนตัวจริง รวมถึง ศราวุธ เกิดศรี, พีรพงศ์ พิชิตโชติรัตน์, ฉัตรมงคล ทองคีรี และเจนรบ สำเภาดี แต่ยังสามารถเก็บชัยชนะไปได้  \"เป็นอีกหนึ่งเกมที่ยากลำบากสำหรับเรา วันนี้เป็นการแข่งขันต่อเนื่องจากเกมที่ผ่านมา ผมตั้งใจอยู่แล้วว่า จะเปลี่ยนผู้เล่นให้กับคนที่ไม่ค่อยได้ลงสนามลงบ้าง\" กุนซือวัย 54 ปี เริ่มกล่าว</td>\n",
       "    </tr>\n",
       "    <tr>\n",
       "      <th>3</th>\n",
       "      <td>https://www.skysports.com/football/news/15205/12458496/cristiano-ronaldo-phenomenal-in-saving-man-utd-again-but-result-papers-over-the-cracks-says-paul-merson</td>\n",
       "      <td>Cristiano Ronaldo phenomenal in saving Man Utd again but result papers over the cracks, says Paul Merson</td>\n",
       "      <td>Football Cristiano Ronaldo's late stunner rescued a 2-2 draw for Man Utd against Atalanta. \"It's got to be one of the best finishes of all-time,\" said Paul Merson. \"It's another Polyfilla one, it's just covering over the cracks, but it's a result.\" Football Expert &amp; Columnist\\n              @PaulMerse Wednesday 3 November 2021 08:57, UK Paul Merson lauded Cristiano Ronaldo's \"phenomenal\" equaliser against Atalanta as \"one of the best finishes of all-time\" but insisted the 2-2 draw merely papers over the cracks for Manchester United. Ronaldo, who had earlier finished off a flowing team move...</td>\n",
       "    </tr>\n",
       "    <tr>\n",
       "      <th>4</th>\n",
       "      <td>https://www.skysports.com/football/news/34681/12520900/david-pruttons-sky-bet-championship-predictions</td>\n",
       "      <td>David Prutton's Sky Bet Championship predictions</td>\n",
       "      <td>Football EFL Expert &amp; Columnist Saturday 22 January 2022 17:58, UK Who is David Prutton tipping for victory in the Sky Bet Championship this weekend? Find out here... Bristol City became the latest side to be blown away by Fulham at the weekend. They weren't the first or even the last in the past couple of weeks, so they shouldn't take it too much to heart. It's five without a win now for Cardiff, and their position would look even more precarious were it not for the points deductions that have happened elsewhere. The Bluebirds have done well at Ashton Gate recently, but I think this will ...</td>\n",
       "    </tr>\n",
       "    <tr>\n",
       "      <th>5</th>\n",
       "      <td>https://www.goal.com/th/ข่าว/live-update-ยูโรป้า-ลีก-บาร์เซโลนา-กาลาตาซาราย/bltc971ae63059f5cc8</td>\n",
       "      <td>ลุ้นต่อนัดสอง! บาร์เซโลนาเจ๊าจืดกาลาตาซาราย 0-0</td>\n",
       "      <td>LIVE UPDATE ยูโรป้า ลีก : บาร์เซโลนา - กาลาตาซารายยูฟ่า ยูโรป้า ลีก 2021-2022 รอบ 16 ทีมนัดแรก เป็นการพบกันระหว่าง บาร์เซโลนา เปิดรังเหย้า คัมป์ นู ต้อนรับการมาเยือนของ กาลาตาซาราย\\nชาบี เอร์นานเดซ กุนซือเจ้าบ้าน เลือกจัดทัพมาในระบบ 4-3-3 ด้วยการใช้สามประสานแนวรุกในแดนหน้าเป็น อดามา ตราโอเร, เฟร์ราน ตอร์เรส และ เมมฟิส เดปาย\\nด้านทีมเยือนของ โดเมเนค ตอร์เรนต์ วางหมากมาในแผน 4-2-3-1 ใช้หน้าเป้าเป็น โมสตาฟา โมฮาเหม็ด ทำเกมรุกร่วมกับ ไรอัน บาเบิ้ล, โซฟิยาน เฟกูลี และ เคเรม อัคเตอร์โคลู Editor Picks    โปรแกรมถ่ายทอดสดฟุตบอล - ดูบอลสดคืนนี้ (พรีเมียร์ลีก, ไทยลีก, ลาลีกา, บุนเดสลีกา, แชมเปี้ยนส์...</td>\n",
       "    </tr>\n",
       "    <tr>\n",
       "      <th>6</th>\n",
       "      <td>https://www.skysports.com/football/news/37002/12560735/leicester-2-0-rennes-marc-albrighton-and-kelechi-iheanacho-strike-in-first-leg-victory</td>\n",
       "      <td>Leicester 2-0 Rennes: Marc Albrighton and Kelechi Iheanacho strike in first-leg victory</td>\n",
       "      <td>Football Match report as Leicester earn solid first-leg advantage over Rennes thanks to goals from Marc Albrighton and Kelechi Iheanacho; watch the Foxes' next match at Arsenal on Super Sunday, live on Sky Sports Premier League, from 4pm; kick off 4.30pm @SamBIitz Thursday 10 March 2022 23:18, UK Leicester took control of their Europa Conference League last-16 tie with Rennes as Marc Albrighton and Kelechi Iheanacho earned them a 2-0 first-leg win. A nervy start for Brendan Rodgers' side was blown out of the water when Albrighton smashed home Harvey Barnes' cutback from the edge of the box...</td>\n",
       "    </tr>\n",
       "    <tr>\n",
       "      <th>7</th>\n",
       "      <td>https://www.skysports.com/football/news/11095/12556267/bayer-leverkusens-simon-rolfes-on-the-new-bundesliga-match-facts-that-highlight-footballs-data-revolution</td>\n",
       "      <td>Bayer Leverkusen's Simon Rolfes on the new Bundesliga Match Facts that highlight football's data revolution</td>\n",
       "      <td>Football Bayer Leverkusen face Bayern Munich on Saturday and data analysis will form part of the preparation for the game, explains Leverkusen sporting director Simon Rolfes as the latest Bundesliga Match Facts are to be displayed on broadcasts Comment and Analysis\\n              @ghostgoal Thursday 3 March 2022 10:48, UK \"It was not by luck that we scouted him and he is very fast,\" says Simon Rolfes. \"We search for players who are very fast. Data is a key part of that nowadays.\" Bayer Leverkusen's sporting director is discussing the signing of Moussa Diaby from Paris Saint-Germain in 2019...</td>\n",
       "    </tr>\n",
       "    <tr>\n",
       "      <th>8</th>\n",
       "      <td>https://www.skysports.com/football/news/29326/12474676/gary-neville-development-of-vision-can-save-manchester-united-from-cultural-crisis</td>\n",
       "      <td>Gary Neville: Development of vision can save Manchester United from cultural crisis</td>\n",
       "      <td>Football With Man Utd searching for their fifth manager of the post-Sir Alex Ferguson era, Gary Neville assesses how his old club ended up here again, the credentials needed to turn things around at Old Trafford, and what the road to recovery must look like on a special edition of Off Script... Football Expert\\n              @GNev2 Monday 22 November 2021 13:53, UK Please use Chrome browser for a more accessible video player  There is an all-too familiar sense of deja vu engulfing Old Trafford. David Moyes, Louis van Gaal, Jose Mourinho and now Ole Gunnar Solskjaer have had the axe wielded...</td>\n",
       "    </tr>\n",
       "    <tr>\n",
       "      <th>9</th>\n",
       "      <td>https://www.goal.com/th/ข่าว/stay-tuned-ucl-คถายทอดสด-ยฟา-แชมเปยนสลก/14qx7qml3eqdy1eyp6ww4few6c</td>\n",
       "      <td>โปรแกรมถ่ายทอดสดฟุตบอล - ดูบอลสดคืนนี้ (พรีเมียร์ลีก, ไทยลีก, ลาลีกา, บุนเดสลีกา, แชมเปี้ยนส์ลีก, ฯลฯ)</td>\n",
       "      <td>หลังหยุดการแข่งขันไปพักใหญ่จากสถานการณ์แพร่ระบาดของไวรัส COVID-19 ฟุตบอลทั่วโลกกำลังกลับมาแข่งขันกันอีกครั้งภายใต้มาตรการความปลอดภัยรูปแบบใหม่ โดยแม้ว่าส่วนมากจะยังไม่สามารถเปิดให้ผู้ชมเข้าชมในสนามได้ แต่ไม่เป็นอุปสรรคสำหรับการถ่ายทอดสดบอลให้ชมกันที่บ้าน สำหรับประเทศไทย มีโปรแกรมถ่ายทอดสดฟุตบอลให้ชมกันหลายรายการ ผ่านทั้งโทรทัศน์ภาคพื้นดิน, ผ่านดาวเทียม หรือสตรีมมิ่ง โดยมีทั้งรูปแบบการรับชมฟรีและเสียค่าสมาชิก อัคซายิค - ตูราน เตอร์กิสถาน ELEVEN SPORTS คาสปี้ - โทบอล ELEVEN SPORTS อัคโตเบ้ - อาเตอเรา ELEVEN SPORTS มัคตาราล - ไครัต ELEVEN SPORTS ซิดนีย์ เอฟซี - เมลเบิร์น ซิตี้ beIN SPORTS 1 ซ...</td>\n",
       "    </tr>\n",
       "  </tbody>\n",
       "</table>\n",
       "</div>"
      ],
      "text/plain": [
       "                                                                                                                                                                                                      url  \\\n",
       "0                                                                            https://www.skysports.com/football/news/11095/12474503/manchester-united-gary-neville-reacts-to-ole-gunnar-solskjaer-sacking   \n",
       "1  https://www.skysports.com/football/news/11670/12557127/mikel-arteta-exclusive-interview-arsenal-boss-on-emirates-stadium-connection-pierre-emerick-aubameyang-exit-and-why-this-summer-is-so-important   \n",
       "2                                                                                              https://www.goal.com/th/ข่าว/เปลี่ยนหลายตําแหน่ง-เทกุระโมริ-เผยเหตุขนสํารองลงยิงปราการ/blta915e3417db1da8d   \n",
       "3                                          https://www.skysports.com/football/news/15205/12458496/cristiano-ronaldo-phenomenal-in-saving-man-utd-again-but-result-papers-over-the-cracks-says-paul-merson   \n",
       "4                                                                                                  https://www.skysports.com/football/news/34681/12520900/david-pruttons-sky-bet-championship-predictions   \n",
       "5                                                                                                         https://www.goal.com/th/ข่าว/live-update-ยูโรป้า-ลีก-บาร์เซโลนา-กาลาตาซาราย/bltc971ae63059f5cc8   \n",
       "6                                                           https://www.skysports.com/football/news/37002/12560735/leicester-2-0-rennes-marc-albrighton-and-kelechi-iheanacho-strike-in-first-leg-victory   \n",
       "7                                        https://www.skysports.com/football/news/11095/12556267/bayer-leverkusens-simon-rolfes-on-the-new-bundesliga-match-facts-that-highlight-footballs-data-revolution   \n",
       "8                                                               https://www.skysports.com/football/news/29326/12474676/gary-neville-development-of-vision-can-save-manchester-united-from-cultural-crisis   \n",
       "9                                                                                                         https://www.goal.com/th/ข่าว/stay-tuned-ucl-คถายทอดสด-ยฟา-แชมเปยนสลก/14qx7qml3eqdy1eyp6ww4few6c   \n",
       "\n",
       "                                                                                                                                               header  \\\n",
       "0                                                                             Manchester United: Gary Neville reacts to Ole Gunnar Solskjaer sacking    \n",
       "1  Mikel Arteta exclusive interview: Arsenal boss on Emirates Stadium connection, Pierre-Emerick Aubameyang exit and why this summer is so important    \n",
       "2                                                                                           เปลี่ยนหลายตำแหน่ง! เทกุระโมริ เผยเหตุขนสำรองลงยิงปราการ    \n",
       "3                                           Cristiano Ronaldo phenomenal in saving Man Utd again but result papers over the cracks, says Paul Merson    \n",
       "4                                                                                                   David Prutton's Sky Bet Championship predictions    \n",
       "5                                                                                                    ลุ้นต่อนัดสอง! บาร์เซโลนาเจ๊าจืดกาลาตาซาราย 0-0    \n",
       "6                                                            Leicester 2-0 Rennes: Marc Albrighton and Kelechi Iheanacho strike in first-leg victory    \n",
       "7                                        Bayer Leverkusen's Simon Rolfes on the new Bundesliga Match Facts that highlight football's data revolution    \n",
       "8                                                                Gary Neville: Development of vision can save Manchester United from cultural crisis    \n",
       "9                                             โปรแกรมถ่ายทอดสดฟุตบอล - ดูบอลสดคืนนี้ (พรีเมียร์ลีก, ไทยลีก, ลาลีกา, บุนเดสลีกา, แชมเปี้ยนส์ลีก, ฯลฯ)    \n",
       "\n",
       "                                                                                                                                                                                                                                                                                                                                                                                                                                                                                                                                                                                                                   content  \n",
       "0  Football Gary Neville: \"Ole could not get a performance out of them in the end\"; Solskjaer sacked after 4-1 Watford defeat; Man Utd 12 points off pace in Premier League; Norwegian led United to third and second-place finishes in league during his two full seasons in charge but failed to win trophy Football Expert\\n              @GNev2 Sunday 21 November 2021 21:11, UK Gary Neville has admitted Ole Gunnar Solskjaer's sacking had become an inevitability after Manchester United's collapse in form reached a new low in their 4-1 defeat at Watford. Neville has refused to call for Solskjaer's dis...  \n",
       "1  Football Mikel Arteta opens up to Sky Sports' Nick Wright about turning the Emirates into a fortress, letting Pierre-Emerick Aubameyang go, and planning for a big summer; watch Watford vs Arsenal live on Sky Sports Premier League from 1pm on Sunday; kick-off 2pm Comment and Analysis\\n              @nicholaspwright Sunday 6 March 2022 20:54, UK Mikel Arteta is becoming animated, eyes widening and hands gesticulating enthusiastically as our conversation turns to the connection between his team and the Arsenal supporters. The 39-year-old is known for staying cool and composed during his media...  \n",
       "2             มาโกโตะ เทกุระโมริ กุนซือ บีจี ปทุม ยูไนเต็ด พอใจกับผลงานโดยรวมของทีม แม้จะยังมีติดขัดในเกมที่บุกชนะ สมุทรปราการ ซิตี้ 2-0 ในรีโว่ ไทยลีก 2021/22 เมื่อวันที่ 9 มี.ค. ที่ผ่านมา  เฮดโค้ชชาวญี่ปุ่น ตัดสินใจส่งผู้เล่นสำรองลงสนามหลายตำแหน่ง นำโดย วิคเตอร์ คาร์โดโซ ปราการหลังชาวบราซิลที่กลับมายืนตัวจริง รวมถึง ศราวุธ เกิดศรี, พีรพงศ์ พิชิตโชติรัตน์, ฉัตรมงคล ทองคีรี และเจนรบ สำเภาดี แต่ยังสามารถเก็บชัยชนะไปได้  \"เป็นอีกหนึ่งเกมที่ยากลำบากสำหรับเรา วันนี้เป็นการแข่งขันต่อเนื่องจากเกมที่ผ่านมา ผมตั้งใจอยู่แล้วว่า จะเปลี่ยนผู้เล่นให้กับคนที่ไม่ค่อยได้ลงสนามลงบ้าง\" กุนซือวัย 54 ปี เริ่มกล่าว  \n",
       "3  Football Cristiano Ronaldo's late stunner rescued a 2-2 draw for Man Utd against Atalanta. \"It's got to be one of the best finishes of all-time,\" said Paul Merson. \"It's another Polyfilla one, it's just covering over the cracks, but it's a result.\" Football Expert & Columnist\\n              @PaulMerse Wednesday 3 November 2021 08:57, UK Paul Merson lauded Cristiano Ronaldo's \"phenomenal\" equaliser against Atalanta as \"one of the best finishes of all-time\" but insisted the 2-2 draw merely papers over the cracks for Manchester United. Ronaldo, who had earlier finished off a flowing team move...  \n",
       "4  Football EFL Expert & Columnist Saturday 22 January 2022 17:58, UK Who is David Prutton tipping for victory in the Sky Bet Championship this weekend? Find out here... Bristol City became the latest side to be blown away by Fulham at the weekend. They weren't the first or even the last in the past couple of weeks, so they shouldn't take it too much to heart. It's five without a win now for Cardiff, and their position would look even more precarious were it not for the points deductions that have happened elsewhere. The Bluebirds have done well at Ashton Gate recently, but I think this will ...  \n",
       "5  LIVE UPDATE ยูโรป้า ลีก : บาร์เซโลนา - กาลาตาซารายยูฟ่า ยูโรป้า ลีก 2021-2022 รอบ 16 ทีมนัดแรก เป็นการพบกันระหว่าง บาร์เซโลนา เปิดรังเหย้า คัมป์ นู ต้อนรับการมาเยือนของ กาลาตาซาราย\\nชาบี เอร์นานเดซ กุนซือเจ้าบ้าน เลือกจัดทัพมาในระบบ 4-3-3 ด้วยการใช้สามประสานแนวรุกในแดนหน้าเป็น อดามา ตราโอเร, เฟร์ราน ตอร์เรส และ เมมฟิส เดปาย\\nด้านทีมเยือนของ โดเมเนค ตอร์เรนต์ วางหมากมาในแผน 4-2-3-1 ใช้หน้าเป้าเป็น โมสตาฟา โมฮาเหม็ด ทำเกมรุกร่วมกับ ไรอัน บาเบิ้ล, โซฟิยาน เฟกูลี และ เคเรม อัคเตอร์โคลู Editor Picks    โปรแกรมถ่ายทอดสดฟุตบอล - ดูบอลสดคืนนี้ (พรีเมียร์ลีก, ไทยลีก, ลาลีกา, บุนเดสลีกา, แชมเปี้ยนส์...  \n",
       "6  Football Match report as Leicester earn solid first-leg advantage over Rennes thanks to goals from Marc Albrighton and Kelechi Iheanacho; watch the Foxes' next match at Arsenal on Super Sunday, live on Sky Sports Premier League, from 4pm; kick off 4.30pm @SamBIitz Thursday 10 March 2022 23:18, UK Leicester took control of their Europa Conference League last-16 tie with Rennes as Marc Albrighton and Kelechi Iheanacho earned them a 2-0 first-leg win. A nervy start for Brendan Rodgers' side was blown out of the water when Albrighton smashed home Harvey Barnes' cutback from the edge of the box...  \n",
       "7  Football Bayer Leverkusen face Bayern Munich on Saturday and data analysis will form part of the preparation for the game, explains Leverkusen sporting director Simon Rolfes as the latest Bundesliga Match Facts are to be displayed on broadcasts Comment and Analysis\\n              @ghostgoal Thursday 3 March 2022 10:48, UK \"It was not by luck that we scouted him and he is very fast,\" says Simon Rolfes. \"We search for players who are very fast. Data is a key part of that nowadays.\" Bayer Leverkusen's sporting director is discussing the signing of Moussa Diaby from Paris Saint-Germain in 2019...  \n",
       "8  Football With Man Utd searching for their fifth manager of the post-Sir Alex Ferguson era, Gary Neville assesses how his old club ended up here again, the credentials needed to turn things around at Old Trafford, and what the road to recovery must look like on a special edition of Off Script... Football Expert\\n              @GNev2 Monday 22 November 2021 13:53, UK Please use Chrome browser for a more accessible video player  There is an all-too familiar sense of deja vu engulfing Old Trafford. David Moyes, Louis van Gaal, Jose Mourinho and now Ole Gunnar Solskjaer have had the axe wielded...  \n",
       "9  หลังหยุดการแข่งขันไปพักใหญ่จากสถานการณ์แพร่ระบาดของไวรัส COVID-19 ฟุตบอลทั่วโลกกำลังกลับมาแข่งขันกันอีกครั้งภายใต้มาตรการความปลอดภัยรูปแบบใหม่ โดยแม้ว่าส่วนมากจะยังไม่สามารถเปิดให้ผู้ชมเข้าชมในสนามได้ แต่ไม่เป็นอุปสรรคสำหรับการถ่ายทอดสดบอลให้ชมกันที่บ้าน สำหรับประเทศไทย มีโปรแกรมถ่ายทอดสดฟุตบอลให้ชมกันหลายรายการ ผ่านทั้งโทรทัศน์ภาคพื้นดิน, ผ่านดาวเทียม หรือสตรีมมิ่ง โดยมีทั้งรูปแบบการรับชมฟรีและเสียค่าสมาชิก อัคซายิค - ตูราน เตอร์กิสถาน ELEVEN SPORTS คาสปี้ - โทบอล ELEVEN SPORTS อัคโตเบ้ - อาเตอเรา ELEVEN SPORTS มัคตาราล - ไครัต ELEVEN SPORTS ซิดนีย์ เอฟซี - เมลเบิร์น ซิตี้ beIN SPORTS 1 ซ...  "
      ]
     },
     "execution_count": 6,
     "metadata": {},
     "output_type": "execute_result"
    }
   ],
   "source": [
    "%%time\n",
    "s_manager = ScrapManager()\n",
    "data = s_manager.get_all_data()\n",
    "data[:10]"
   ]
  },
  {
   "cell_type": "code",
   "execution_count": 7,
   "id": "877c3178",
   "metadata": {},
   "outputs": [
    {
     "name": "stderr",
     "output_type": "stream",
     "text": [
      "'ls' is not recognized as an internal or external command,\n",
      "operable program or batch file.\n"
     ]
    }
   ],
   "source": [
    "! ls"
   ]
  },
  {
   "cell_type": "code",
   "execution_count": null,
   "id": "9b85c284",
   "metadata": {},
   "outputs": [],
   "source": []
  }
 ],
 "metadata": {
  "kernelspec": {
   "display_name": "Python 3 (ipykernel)",
   "language": "python",
   "name": "python3"
  },
  "language_info": {
   "codemirror_mode": {
    "name": "ipython",
    "version": 3
   },
   "file_extension": ".py",
   "mimetype": "text/x-python",
   "name": "python",
   "nbconvert_exporter": "python",
   "pygments_lexer": "ipython3",
   "version": "3.9.7"
  }
 },
 "nbformat": 4,
 "nbformat_minor": 5
}
