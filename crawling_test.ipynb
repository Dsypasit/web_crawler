{
 "cells": [
  {
   "cell_type": "code",
   "execution_count": 1,
   "id": "01bb7f4a",
   "metadata": {},
   "outputs": [],
   "source": [
    "from CrawlerManager import CrawlerManager\n",
    "manager = CrawlerManager()"
   ]
  },
  {
   "cell_type": "code",
   "execution_count": 2,
   "id": "57eda205",
   "metadata": {
    "scrolled": true
   },
   "outputs": [
    {
     "name": "stdout",
     "output_type": "stream",
     "text": [
      "https://www.goal.com/th success 6.514817237854004\n",
      "https://www.skysports.com/football success 9.5318284034729\n",
      "https://www.bbc.com/sport/football success 9.705826997756958\n",
      "https://www.dailymail.co.uk/sport/football success 9.83086109161377\n",
      "https://www.siamsport.co.th/football/international success 10.838948965072632\n",
      "https://edition.cnn.com/sport/football success 11.720004558563232\n",
      "0                           https://www.goal.com/th/ข่าว/นอริช-เชลซี-ข่าวล่าสุด-เวลาแข่ง-ช่องถ่ายทอดสด/blt06f522b9d3d0583d\n",
      "1                          https://www.goal.com/th/ข่าว/live-update-ยูโรป้า-ลีก-บาร์เซโลนา-กาลาตาซาราย/bltc971ae63059f5cc8\n",
      "2             https://www.goal.com/th/ข่าว/นัด-2-งานสบาย-เลสเตอร์เปิดบ้านเชือดแรนส์-2-0-คอนเฟอเรนซ์-16/blte0293dfad8356691\n",
      "3              https://www.goal.com/th/ข่าว/มูนีร์วอลเลย์หาย-เซบีญาบดเวสต์แฮม-1-0-ยูโรป้า-16-ทีมนัดแรก/blt55a076a2b4448c2f\n",
      "4                                     https://www.goal.com/th/ข่าว/สรุปประเด็น-เชลซีโดนผลกระทบอะไรบ้าง/bltde22a5b972876413\n",
      "5                         https://www.goal.com/th/ข่าว/three-ระงับการสนับสนุนเชลซี-เอาโลโก้ออกจากเสื้อ/blt6526eaee2c1196d4\n",
      "6     https://www.goal.com/th/ข่าว/โปรแกรมถ่ายทอดสดฟุตบอล-พรีเมียร์ลีก-ไทยลีก-ลาลีกา-บุนเดสลีกา/1avl5byctg48z1tjl9y0cu9ro2\n",
      "7                                                           https://www.goal.com/th/ข่าว/เสียงข้างสนาม/bltb8e05a6efc7bb3c7\n",
      "8                    https://www.goal.com/th/ลิสต์/ยุคบุกเบิก-แมนฯซิตี้-ซื้อใครบ้างในฤดูกาลแรก-หลังชีค/blt2e7429318e8208ef\n",
      "9           https://www.goal.com/th/ลิสต์/จาก-1-ถึง-176-เพื่อนร่วมทีม-แฮร์รี-เคน-ยิงลูกแรกพรีเมียร์ลีก/bltc06a756710aea1a0\n",
      "10                       https://www.goal.com/th/ลิสต์/ปีเดียว-13-แบบ-รวมชุดแข่งนาโปลีฤดูกาล-2021-2022/blt594b3fa24e1ee0f6\n",
      "11                    https://www.goal.com/th/ข่าว/หนุนเชฟเชนโก้-มิลานเปิดตัวชุดพิเศษระดมทุนช่วยยูเครน/blt70632c2d49d84078\n",
      "12                 https://www.goal.com/th/ข่าว/แมนฯยูไนเต็ด-สเปอร์ส-ข่าวล่าสุด-เวลาแข่ง-ช่องถ่ายทอดสด/blt78a76f84191fbf2a\n",
      "13           https://www.goal.com/th/ข่าว/ยุคใหม่โค้ชเกาหลี-มาเลเซียดึง-ซาฟิค-รอฮีม-คืนทีมชาติในวัย-34/blt869eb226902493ce\n",
      "14                https://www.goal.com/th/ข่าว/บุกดวลช้างศึก-เนปาล-ประกาศ-25-แข้งอุ่นเครื่องฟีฟ่า-เดย์/blt234383756e35cc77\n",
      "15                              https://www.goal.com/th/ข่าว/มีทางแก้-อดีต-ปธ-พาเลซ-อธิบายวิธีขายเชลซี/blt82606515b7c28ada\n",
      "16                https://www.goal.com/th/ข่าว/โปรแกรมมังกรฟ้า-ลีก-t3-เมืองเลยท้าชนพิษณุโลก-นครศรีซัดม/blta75c4d84ea25c3d0\n",
      "17                  https://www.goal.com/th/ข่าว/ไบรท์ตัน-ลิเวอร์พูล-ข่าวล่าสุด-เวลาแข่ง-ช่องถ่ายทอดสด/blt3c2e8418c65de12f\n",
      "18           https://www.goal.com/th/ข่าว/คนสนิทปูติน-นายกเทศมนตรีลอนดอนเห็นด้วยอายัดทรัพย์-อับราโมวิช/blt700d9adbf1d91649\n",
      "19                         https://www.goal.com/th/ข่าว/เจอกันกามา-บุรีรัมย์ลัดฟ้าบุกเกาหลีพร้อมชนแดกู/blt2adc15508be8d32e\n",
      "dtype: object\n",
      "Wall time: 11.7 s\n"
     ]
    }
   ],
   "source": [
    "%%time\n",
    "links = manager.get_all_links()\n",
    "print(links[:20])"
   ]
  },
  {
   "cell_type": "code",
   "execution_count": 3,
   "id": "60d5dbef",
   "metadata": {},
   "outputs": [
    {
     "name": "stdout",
     "output_type": "stream",
     "text": [
      "425\n"
     ]
    }
   ],
   "source": [
    "print(len(links))"
   ]
  },
  {
   "cell_type": "code",
   "execution_count": 9,
   "id": "5c52a915",
   "metadata": {},
   "outputs": [
    {
     "name": "stdout",
     "output_type": "stream",
     "text": [
      "ลิเวอร์พูล\n",
      "Wall time: 4.27 s\n"
     ]
    },
    {
     "data": {
      "text/html": [
       "<div>\n",
       "<style scoped>\n",
       "    .dataframe tbody tr th:only-of-type {\n",
       "        vertical-align: middle;\n",
       "    }\n",
       "\n",
       "    .dataframe tbody tr th {\n",
       "        vertical-align: top;\n",
       "    }\n",
       "\n",
       "    .dataframe thead th {\n",
       "        text-align: right;\n",
       "    }\n",
       "</style>\n",
       "<table border=\"1\" class=\"dataframe\">\n",
       "  <thead>\n",
       "    <tr style=\"text-align: right;\">\n",
       "      <th></th>\n",
       "      <th>url</th>\n",
       "      <th>n_gram</th>\n",
       "    </tr>\n",
       "  </thead>\n",
       "  <tbody>\n",
       "    <tr>\n",
       "      <th>2153</th>\n",
       "      <td>https://www.skysports.com/football/news/11095/12558812/kylian-mbappe-mohamed-salah-erling-haaland-vying-to-usurp-lionel-messi-and-cristiano-ronaldo-as-worlds-best</td>\n",
       "      <td>84.0</td>\n",
       "    </tr>\n",
       "    <tr>\n",
       "      <th>2334</th>\n",
       "      <td>https://www.skysports.com/football/news/29326/12560525/kylian-mbappe-heir-apparent-to-cristiano-ronaldo-and-lionel-messi-as-worlds-best-player-says-gary-neville</td>\n",
       "      <td>82.0</td>\n",
       "    </tr>\n",
       "    <tr>\n",
       "      <th>2496</th>\n",
       "      <td>https://www.dailymail.co.uk/sport/football/article-10598047/PSG-Messi-Neymar-Mbappe-project-failed-deliver-Champions-League-glory.html</td>\n",
       "      <td>76.0</td>\n",
       "    </tr>\n",
       "    <tr>\n",
       "      <th>2427</th>\n",
       "      <td>https://www.dailymail.co.uk/sport/football/article-10598047/amp/PSG-Messi-Neymar-Mbappe-project-failed-deliver-Champions-League-glory.html</td>\n",
       "      <td>64.0</td>\n",
       "    </tr>\n",
       "    <tr>\n",
       "      <th>981</th>\n",
       "      <td>https://www.skysports.com/football/news/29326/12559068/gary-neville-man-utd-response-at-man-city-was-embarrassing-they-threw-the-towel-in</td>\n",
       "      <td>50.0</td>\n",
       "    </tr>\n",
       "    <tr>\n",
       "      <th>939</th>\n",
       "      <td>https://www.skysports.com/football/news/11661/12559068/gary-neville-man-utd-response-at-man-city-was-embarrassing-they-threw-the-towel-in</td>\n",
       "      <td>50.0</td>\n",
       "    </tr>\n",
       "    <tr>\n",
       "      <th>1047</th>\n",
       "      <td>https://www.skysports.com/football/news/11667/12559623/ralf-rangnick-responds-to-roy-keane-comments-over-cristiano-ronaldo</td>\n",
       "      <td>38.0</td>\n",
       "    </tr>\n",
       "    <tr>\n",
       "      <th>658</th>\n",
       "      <td>https://www.dailymail.co.uk/sport/football/article-10600293/MARTIN-SAMUEL-Forget-Mauricio-Pochettino-Man-United-Thomas-Tuchel.html</td>\n",
       "      <td>35.0</td>\n",
       "    </tr>\n",
       "    <tr>\n",
       "      <th>2526</th>\n",
       "      <td>https://edition.cnn.com/2020/08/07/football/barcelona-napoli-champions-league-lionel-messi-spt-intl-cmd/index.html</td>\n",
       "      <td>35.0</td>\n",
       "    </tr>\n",
       "    <tr>\n",
       "      <th>2521</th>\n",
       "      <td>https://edition.cnn.com/2016/12/15/football/neymar-barcelona-messi-suarez/index.html</td>\n",
       "      <td>29.0</td>\n",
       "    </tr>\n",
       "  </tbody>\n",
       "</table>\n",
       "</div>"
      ],
      "text/plain": [
       "                                                                                                                                                                     url  \\\n",
       "2153  https://www.skysports.com/football/news/11095/12558812/kylian-mbappe-mohamed-salah-erling-haaland-vying-to-usurp-lionel-messi-and-cristiano-ronaldo-as-worlds-best   \n",
       "2334    https://www.skysports.com/football/news/29326/12560525/kylian-mbappe-heir-apparent-to-cristiano-ronaldo-and-lionel-messi-as-worlds-best-player-says-gary-neville   \n",
       "2496                              https://www.dailymail.co.uk/sport/football/article-10598047/PSG-Messi-Neymar-Mbappe-project-failed-deliver-Champions-League-glory.html   \n",
       "2427                          https://www.dailymail.co.uk/sport/football/article-10598047/amp/PSG-Messi-Neymar-Mbappe-project-failed-deliver-Champions-League-glory.html   \n",
       "981                            https://www.skysports.com/football/news/29326/12559068/gary-neville-man-utd-response-at-man-city-was-embarrassing-they-threw-the-towel-in   \n",
       "939                            https://www.skysports.com/football/news/11661/12559068/gary-neville-man-utd-response-at-man-city-was-embarrassing-they-threw-the-towel-in   \n",
       "1047                                          https://www.skysports.com/football/news/11667/12559623/ralf-rangnick-responds-to-roy-keane-comments-over-cristiano-ronaldo   \n",
       "658                                   https://www.dailymail.co.uk/sport/football/article-10600293/MARTIN-SAMUEL-Forget-Mauricio-Pochettino-Man-United-Thomas-Tuchel.html   \n",
       "2526                                                  https://edition.cnn.com/2020/08/07/football/barcelona-napoli-champions-league-lionel-messi-spt-intl-cmd/index.html   \n",
       "2521                                                                                https://edition.cnn.com/2016/12/15/football/neymar-barcelona-messi-suarez/index.html   \n",
       "\n",
       "      n_gram  \n",
       "2153    84.0  \n",
       "2334    82.0  \n",
       "2496    76.0  \n",
       "2427    64.0  \n",
       "981     50.0  \n",
       "939     50.0  \n",
       "1047    38.0  \n",
       "658     35.0  \n",
       "2526    35.0  \n",
       "2521    29.0  "
      ]
     },
     "execution_count": 9,
     "metadata": {},
     "output_type": "execute_result"
    }
   ],
   "source": [
    "%%time\n",
    "n_gram_data = manager.get_n_gram_data(\"ลิเวอร์พูล\")\n",
    "print(manager.word)\n",
    "n_gram_data[:10]"
   ]
  },
  {
   "cell_type": "code",
   "execution_count": 5,
   "id": "e102c458",
   "metadata": {},
   "outputs": [],
   "source": [
    "from ScrapManager import ScrapManager"
   ]
  },
  {
   "cell_type": "code",
   "execution_count": 6,
   "id": "06aca761",
   "metadata": {},
   "outputs": [
    {
     "name": "stdout",
     "output_type": "stream",
     "text": [
      "Wall time: 18.6 s\n"
     ]
    },
    {
     "data": {
      "text/html": [
       "<div>\n",
       "<style scoped>\n",
       "    .dataframe tbody tr th:only-of-type {\n",
       "        vertical-align: middle;\n",
       "    }\n",
       "\n",
       "    .dataframe tbody tr th {\n",
       "        vertical-align: top;\n",
       "    }\n",
       "\n",
       "    .dataframe thead th {\n",
       "        text-align: right;\n",
       "    }\n",
       "</style>\n",
       "<table border=\"1\" class=\"dataframe\">\n",
       "  <thead>\n",
       "    <tr style=\"text-align: right;\">\n",
       "      <th></th>\n",
       "      <th>url</th>\n",
       "      <th>header</th>\n",
       "      <th>content</th>\n",
       "    </tr>\n",
       "  </thead>\n",
       "  <tbody>\n",
       "    <tr>\n",
       "      <th>0</th>\n",
       "      <td>https://www.skysports.com/football/news/34681/12541943/david-pruttons-sky-bet-championship-predictions</td>\n",
       "      <td>David Prutton's Sky Bet Championship predictions</td>\n",
       "      <td>Football Watch Cardiff vs Coventry live on Sky Sports Football from 7.30pm on Tuesday night; kick-off 7.45pm, with Sheffield United vs Hull live at the same time on Sky Sports Football Red Button and the Sky Sports app EFL Expert &amp; Columnist Monday 14 February 2022 13:47, UK Who is David Prutton tipping for victory in the Sky Bet Championship in the midweek round of fixtures? Find out here... Cardiff's winning run came to an end at Millwall on Saturday, but they've still given themselves a decent bit of breathing space above the bottom three in the last couple of weeks, which should take t...</td>\n",
       "    </tr>\n",
       "    <tr>\n",
       "      <th>1</th>\n",
       "      <td>https://www.goal.com/th/ข่าว/live-update-ยูโรป้า-ลีก-บาร์เซโลนา-กาลาตาซาราย/bltc971ae63059f5cc8</td>\n",
       "      <td>ลุ้นต่อนัดสอง! บาร์เซโลนาเจ๊าจืดกาลาตาซาราย 0-0</td>\n",
       "      <td>LIVE UPDATE ยูโรป้า ลีก : บาร์เซโลนา - กาลาตาซารายยูฟ่า ยูโรป้า ลีก 2021-2022 รอบ 16 ทีมนัดแรก เป็นการพบกันระหว่าง บาร์เซโลนา เปิดรังเหย้า คัมป์ นู ต้อนรับการมาเยือนของ กาลาตาซาราย\\nชาบี เอร์นานเดซ กุนซือเจ้าบ้าน เลือกจัดทัพมาในระบบ 4-3-3 ด้วยการใช้สามประสานแนวรุกในแดนหน้าเป็น อดามา ตราโอเร, เฟร์ราน ตอร์เรส และ เมมฟิส เดปาย\\nด้านทีมเยือนของ โดเมเนค ตอร์เรนต์ วางหมากมาในแผน 4-2-3-1 ใช้หน้าเป้าเป็น โมสตาฟา โมฮาเหม็ด ทำเกมรุกร่วมกับ ไรอัน บาเบิ้ล, โซฟิยาน เฟกูลี และ เคเรม อัคเตอร์โคลู Editor Picks    โปรแกรมถ่ายทอดสดฟุตบอล - ดูบอลสดคืนนี้ (พรีเมียร์ลีก, ไทยลีก, ลาลีกา, บุนเดสลีกา, แชมเปี้ยนส์...</td>\n",
       "    </tr>\n",
       "    <tr>\n",
       "      <th>2</th>\n",
       "      <td>https://www.goal.com/th/ข่าว/แคมป์ปารีสเดือด-เนย์มาร์เกือบวางมวยดอนนารุมมาหลังเกม/bltee26f535791c6d85</td>\n",
       "      <td>แคมป์ปารีสเดือด! เนย์มาร์เกือบวางมวยดอนนารุมมาหลังเกม</td>\n",
       "      <td>เนย์มาร์ กับ จานลุยจิ ดอนนารุมมา สองสตาร์ของ ปารีส แซงต์ แชร์กแมง เกือบวางมวยกันในห้องแต่งตัว หลังจากทีมบุกแพ้ เรอัล มาดริด 1-3 รวมผลสองนัดแพ้ 2-3 จอดป้ายศึกยูฟา แชมเปี้ยนส์ลีก เพียงแค่ในรอบ 16 ทีม ตามรายงานจาก Marca กองหน้าชาวแซมบ้าไปโวยคู่กรณีก่อน หลังไม่พอใจที่แข้งรายนี้เล่นผิดพลาดจนทีมเสียประตูแรก ขณะที่มือกาวชาวอิตาเลียนก็โวยอีกฝ่ายกลับไปเช่นกันว่า เนย์มาร์เป็นคนเสียบอลจนเป็นต้นเหตุทำให้ทีมเสียประตูที่สอง นั่นทำให้ทั้งคู่เดินเข้ามาประจันหน้ากันทันที แต่ยังดีที่เพื่อนร่วมทีมช่วยเข้ามาแยกกันไว้ได้ทัน นอกจากห้องแต่งตัวของเปแอสเชจะเดือดแล้ว ผู้บริหารของทีมอย่าง นาสเซอร์ อัล-เคไลฟี ประธานส...</td>\n",
       "    </tr>\n",
       "    <tr>\n",
       "      <th>3</th>\n",
       "      <td>https://www.skysports.com/football/news/34681/12526416/david-pruttons-sky-bet-championship-predictions</td>\n",
       "      <td>David Prutton's Sky Bet Championship predictions</td>\n",
       "      <td>Football On the new episode of the Prutton's Predictions show, David Prutton and Sky Sports' Simeon Gholam look ahead to all of the weekend's games; check out the stats and hear from Championship fans, before Prutton reveals who he is tipping in Gameweek 29. EFL Expert &amp; Columnist Sunday 30 January 2022 11:27, UK Who is David Prutton tipping for victory in the Sky Bet Championship this weekend? Find out here... David Prutton joins Sky Sports' Simeon Gholam to discuss all of his Championship predictions ahead of Gameweek 29. You can listen below, as Prutton reveals who he is backing this we...</td>\n",
       "    </tr>\n",
       "    <tr>\n",
       "      <th>4</th>\n",
       "      <td>https://www.goal.com/th/ข่าว/ดาวซลโวไทยลก-2021-ศภชยนำรวมแขงไทย/1x26ejvresse0zn4lei6a6mu0</td>\n",
       "      <td>ดาวซัลโวไทยลีก 2021 : ศุภชัยหนึ่งเดียวแข้งไทยลุ้นยอดดาวยิง</td>\n",
       "      <td>โกล สรุปอันดับดาวซัลโวรีโว่ ไทยลีก 2021/22 หลังจบการแข่งขันนัดกลางสัปดาห์ วันพุธที่ 9 มีนาคม 2565 *อัปเดตหลังเกมไทยลีก แมตช์เดย์ที่ 25 วันที่ 9 มีนาคม 2565 [อันดับ 1] ศุภชัย ใจเด็ด (บุรีรัมย์ ยูไนเต็ด) 14 ประตู แฮมิลตัน โซอาเรส (หนองบัว พิชญ เอฟซี) 14 ประตู [อันดับ 2] อิบสัน เมโล (ขอนแก่น ยูไนเต็ด) 13 ประตู [อันดับ 4] วิลเลียน ป็อปป์ (เมืองทอง ยูไนเต็ด) 12 ประตู บิลล์ โรซิมาร์ (เชียงใหม่ ยูไนเต็ด) 12 ประตู ควาเม คาริการี (นครราชสีมา มาสด้า เอฟซี) 12 ประตู [อันดับ 7] เฮแบร์ตี้ แฟร์นานเดส (ทรู แบงค็อกฯ) 11 ประตู [อันดับ 8] แดร์เลย์ (ราชบุรี มิตรผล เอฟซี) 10 ประตู [อันดับ 9] ดานิโล อัลเวส (สุ...</td>\n",
       "    </tr>\n",
       "    <tr>\n",
       "      <th>5</th>\n",
       "      <td>https://www.skysports.com/football/news/11668/12558320/chelsea-fans-chant-roman-abramovichs-name-during-ukraine-tribute-against-burnley</td>\n",
       "      <td>Chelsea fans chant Roman Abramovich's name during Ukraine tribute at Burnley</td>\n",
       "      <td>Football Chelsea fans sing Roman Abramovich's name ahead of their Premier League encounter against Burnley; Show of support for outgoing Blues owner comes as all 20 clubs are taking part in gestures of solidary with Ukraine; \"It was not the moment to do this,\" Thomas Tuchel says Sunday 6 March 2022 11:14, UK Please use Chrome browser for a more accessible video player  Thomas Tuchel said Chelsea fans picked the wrong time to show their support for Roman Abramovich after the Russian owner's name was chanted during a show of solidarity with Ukraine ahead of their Premier League win at Burnle...</td>\n",
       "    </tr>\n",
       "    <tr>\n",
       "      <th>6</th>\n",
       "      <td>https://www.goal.com/th/ข่าว/โปรแกรมถ่ายทอดสดฟุตบอล-พรีเมียร์ลีก-ไทยลีก-ลาลีกา-บุนเดสลีกา/1avl5byctg48z1tjl9y0cu9ro2</td>\n",
       "      <td>โปรแกรมถ่ายทอดสดฟุตบอล - ดูบอลสดคืนนี้ (พรีเมียร์ลีก, ไทยลีก, ลาลีกา, บุนเดสลีกา, แชมเปี้ยนส์ลีก, ฯลฯ)</td>\n",
       "      <td>หลังหยุดการแข่งขันไปพักใหญ่จากสถานการณ์แพร่ระบาดของไวรัส COVID-19 ฟุตบอลทั่วโลกกำลังกลับมาแข่งขันกันอีกครั้งภายใต้มาตรการความปลอดภัยรูปแบบใหม่ โดยแม้ว่าส่วนมากจะยังไม่สามารถเปิดให้ผู้ชมเข้าชมในสนามได้ แต่ไม่เป็นอุปสรรคสำหรับการถ่ายทอดสดบอลให้ชมกันที่บ้าน สำหรับประเทศไทย มีโปรแกรมถ่ายทอดสดฟุตบอลให้ชมกันหลายรายการ ผ่านทั้งโทรทัศน์ภาคพื้นดิน, ผ่านดาวเทียม หรือสตรีมมิ่ง โดยมีทั้งรูปแบบการรับชมฟรีและเสียค่าสมาชิก อัคซายิค - ตูราน เตอร์กิสถาน ELEVEN SPORTS คาสปี้ - โทบอล ELEVEN SPORTS อัคโตเบ้ - อาเตอเรา ELEVEN SPORTS มัคตาราล - ไครัต ELEVEN SPORTS ซิดนีย์ เอฟซี - เมลเบิร์น ซิตี้ beIN SPORTS 1 ซ...</td>\n",
       "    </tr>\n",
       "    <tr>\n",
       "      <th>7</th>\n",
       "      <td>https://www.skysports.com/football/news/11668/12556306/roman-abramovich-chelsea-owner-decides-to-sell-club-while-there-is-no-substance-to-jim-ratcliffe-reports</td>\n",
       "      <td>Roman Abramovich: Chelsea owner decides to sell club while there is 'no substance' to Jim Ratcliffe reports</td>\n",
       "      <td>Football Roman Abramovich says net proceeds from sale of Chelsea will be donated to a foundation \"for the benefit of all victims of the war in Ukraine\"; Russian billionaire has owned Chelsea since 2003; spokesperson says there is \"no substance\" to reports of Jim Ratcliffe's interest Friday 4 March 2022 10:32, UK A spokesperson for British billionaire Jim Ratcliffe has said there is \"no substance\" to reports he is interested in buying Chelsea after Roman Abramovich announced he is planning to sell the club. The Russian billionaire released a statement on Wednesday - just before Chelsea's FA...</td>\n",
       "    </tr>\n",
       "    <tr>\n",
       "      <th>8</th>\n",
       "      <td>https://www.skysports.com/football/news/34681/12490908/david-pruttons-sky-bet-championship-predictions</td>\n",
       "      <td>David Prutton's Sky Bet Championship predictions</td>\n",
       "      <td>Football On the new episode of the Prutton's Predictions show, David Prutton and Sky Sports' Simeon Gholam look ahead to all of the weekend's games; check out the stats and hear from Championship fans, before Prutton reveals who he is tipping in Gameweek 22. EFL Expert &amp; Columnist Thursday 9 December 2021 16:50, UK Who is David Prutton tipping for victory in the Sky Bet Championship this weekend? Find out here... David Prutton joins Sky Sports' Simeon Gholam to discuss all of his Championship predictions ahead of Gameweek 22. You can listen below, as Prutton reveals who he is backing this ...</td>\n",
       "    </tr>\n",
       "    <tr>\n",
       "      <th>9</th>\n",
       "      <td>https://www.skysports.com/football/news/11095/12502858/david-pruttons-sky-bet-championship-predictions</td>\n",
       "      <td>David Prutton's Sky Bet Championship predictions</td>\n",
       "      <td>Football Watch Derby vs West Brom (3pm) and QPR vs Bournemouth (5.30pm) live on Sky Sports Football EFL Expert &amp; Columnist Sunday 26 December 2021 17:04, UK Who is David Prutton tipping for victory in the Sky Bet Championship on Monday? Find out here... Here is how you can watch the festive Championship matches live across Sky Sports in December and January. Derby, like a lot of teams in the Championship, haven't played in a couple of weeks. It may have given Wayne Rooney a chance to get some legs fresh because he has so little to operate with. West Brom will feel they missed a real chance...</td>\n",
       "    </tr>\n",
       "  </tbody>\n",
       "</table>\n",
       "</div>"
      ],
      "text/plain": [
       "                                                                                                                                                               url  \\\n",
       "0                                                           https://www.skysports.com/football/news/34681/12541943/david-pruttons-sky-bet-championship-predictions   \n",
       "1                                                                  https://www.goal.com/th/ข่าว/live-update-ยูโรป้า-ลีก-บาร์เซโลนา-กาลาตาซาราย/bltc971ae63059f5cc8   \n",
       "2                                                            https://www.goal.com/th/ข่าว/แคมป์ปารีสเดือด-เนย์มาร์เกือบวางมวยดอนนารุมมาหลังเกม/bltee26f535791c6d85   \n",
       "3                                                           https://www.skysports.com/football/news/34681/12526416/david-pruttons-sky-bet-championship-predictions   \n",
       "4                                                                         https://www.goal.com/th/ข่าว/ดาวซลโวไทยลก-2021-ศภชยนำรวมแขงไทย/1x26ejvresse0zn4lei6a6mu0   \n",
       "5                          https://www.skysports.com/football/news/11668/12558320/chelsea-fans-chant-roman-abramovichs-name-during-ukraine-tribute-against-burnley   \n",
       "6                                             https://www.goal.com/th/ข่าว/โปรแกรมถ่ายทอดสดฟุตบอล-พรีเมียร์ลีก-ไทยลีก-ลาลีกา-บุนเดสลีกา/1avl5byctg48z1tjl9y0cu9ro2   \n",
       "7  https://www.skysports.com/football/news/11668/12556306/roman-abramovich-chelsea-owner-decides-to-sell-club-while-there-is-no-substance-to-jim-ratcliffe-reports   \n",
       "8                                                           https://www.skysports.com/football/news/34681/12490908/david-pruttons-sky-bet-championship-predictions   \n",
       "9                                                           https://www.skysports.com/football/news/11095/12502858/david-pruttons-sky-bet-championship-predictions   \n",
       "\n",
       "                                                                                                         header  \\\n",
       "0                                                             David Prutton's Sky Bet Championship predictions    \n",
       "1                                                              ลุ้นต่อนัดสอง! บาร์เซโลนาเจ๊าจืดกาลาตาซาราย 0-0    \n",
       "2                                                        แคมป์ปารีสเดือด! เนย์มาร์เกือบวางมวยดอนนารุมมาหลังเกม    \n",
       "3                                                             David Prutton's Sky Bet Championship predictions    \n",
       "4                                                   ดาวซัลโวไทยลีก 2021 : ศุภชัยหนึ่งเดียวแข้งไทยลุ้นยอดดาวยิง    \n",
       "5                                 Chelsea fans chant Roman Abramovich's name during Ukraine tribute at Burnley    \n",
       "6       โปรแกรมถ่ายทอดสดฟุตบอล - ดูบอลสดคืนนี้ (พรีเมียร์ลีก, ไทยลีก, ลาลีกา, บุนเดสลีกา, แชมเปี้ยนส์ลีก, ฯลฯ)    \n",
       "7  Roman Abramovich: Chelsea owner decides to sell club while there is 'no substance' to Jim Ratcliffe reports    \n",
       "8                                                             David Prutton's Sky Bet Championship predictions    \n",
       "9                                                             David Prutton's Sky Bet Championship predictions    \n",
       "\n",
       "                                                                                                                                                                                                                                                                                                                                                                                                                                                                                                                                                                                                                   content  \n",
       "0  Football Watch Cardiff vs Coventry live on Sky Sports Football from 7.30pm on Tuesday night; kick-off 7.45pm, with Sheffield United vs Hull live at the same time on Sky Sports Football Red Button and the Sky Sports app EFL Expert & Columnist Monday 14 February 2022 13:47, UK Who is David Prutton tipping for victory in the Sky Bet Championship in the midweek round of fixtures? Find out here... Cardiff's winning run came to an end at Millwall on Saturday, but they've still given themselves a decent bit of breathing space above the bottom three in the last couple of weeks, which should take t...  \n",
       "1  LIVE UPDATE ยูโรป้า ลีก : บาร์เซโลนา - กาลาตาซารายยูฟ่า ยูโรป้า ลีก 2021-2022 รอบ 16 ทีมนัดแรก เป็นการพบกันระหว่าง บาร์เซโลนา เปิดรังเหย้า คัมป์ นู ต้อนรับการมาเยือนของ กาลาตาซาราย\\nชาบี เอร์นานเดซ กุนซือเจ้าบ้าน เลือกจัดทัพมาในระบบ 4-3-3 ด้วยการใช้สามประสานแนวรุกในแดนหน้าเป็น อดามา ตราโอเร, เฟร์ราน ตอร์เรส และ เมมฟิส เดปาย\\nด้านทีมเยือนของ โดเมเนค ตอร์เรนต์ วางหมากมาในแผน 4-2-3-1 ใช้หน้าเป้าเป็น โมสตาฟา โมฮาเหม็ด ทำเกมรุกร่วมกับ ไรอัน บาเบิ้ล, โซฟิยาน เฟกูลี และ เคเรม อัคเตอร์โคลู Editor Picks    โปรแกรมถ่ายทอดสดฟุตบอล - ดูบอลสดคืนนี้ (พรีเมียร์ลีก, ไทยลีก, ลาลีกา, บุนเดสลีกา, แชมเปี้ยนส์...  \n",
       "2  เนย์มาร์ กับ จานลุยจิ ดอนนารุมมา สองสตาร์ของ ปารีส แซงต์ แชร์กแมง เกือบวางมวยกันในห้องแต่งตัว หลังจากทีมบุกแพ้ เรอัล มาดริด 1-3 รวมผลสองนัดแพ้ 2-3 จอดป้ายศึกยูฟา แชมเปี้ยนส์ลีก เพียงแค่ในรอบ 16 ทีม ตามรายงานจาก Marca กองหน้าชาวแซมบ้าไปโวยคู่กรณีก่อน หลังไม่พอใจที่แข้งรายนี้เล่นผิดพลาดจนทีมเสียประตูแรก ขณะที่มือกาวชาวอิตาเลียนก็โวยอีกฝ่ายกลับไปเช่นกันว่า เนย์มาร์เป็นคนเสียบอลจนเป็นต้นเหตุทำให้ทีมเสียประตูที่สอง นั่นทำให้ทั้งคู่เดินเข้ามาประจันหน้ากันทันที แต่ยังดีที่เพื่อนร่วมทีมช่วยเข้ามาแยกกันไว้ได้ทัน นอกจากห้องแต่งตัวของเปแอสเชจะเดือดแล้ว ผู้บริหารของทีมอย่าง นาสเซอร์ อัล-เคไลฟี ประธานส...  \n",
       "3  Football On the new episode of the Prutton's Predictions show, David Prutton and Sky Sports' Simeon Gholam look ahead to all of the weekend's games; check out the stats and hear from Championship fans, before Prutton reveals who he is tipping in Gameweek 29. EFL Expert & Columnist Sunday 30 January 2022 11:27, UK Who is David Prutton tipping for victory in the Sky Bet Championship this weekend? Find out here... David Prutton joins Sky Sports' Simeon Gholam to discuss all of his Championship predictions ahead of Gameweek 29. You can listen below, as Prutton reveals who he is backing this we...  \n",
       "4  โกล สรุปอันดับดาวซัลโวรีโว่ ไทยลีก 2021/22 หลังจบการแข่งขันนัดกลางสัปดาห์ วันพุธที่ 9 มีนาคม 2565 *อัปเดตหลังเกมไทยลีก แมตช์เดย์ที่ 25 วันที่ 9 มีนาคม 2565 [อันดับ 1] ศุภชัย ใจเด็ด (บุรีรัมย์ ยูไนเต็ด) 14 ประตู แฮมิลตัน โซอาเรส (หนองบัว พิชญ เอฟซี) 14 ประตู [อันดับ 2] อิบสัน เมโล (ขอนแก่น ยูไนเต็ด) 13 ประตู [อันดับ 4] วิลเลียน ป็อปป์ (เมืองทอง ยูไนเต็ด) 12 ประตู บิลล์ โรซิมาร์ (เชียงใหม่ ยูไนเต็ด) 12 ประตู ควาเม คาริการี (นครราชสีมา มาสด้า เอฟซี) 12 ประตู [อันดับ 7] เฮแบร์ตี้ แฟร์นานเดส (ทรู แบงค็อกฯ) 11 ประตู [อันดับ 8] แดร์เลย์ (ราชบุรี มิตรผล เอฟซี) 10 ประตู [อันดับ 9] ดานิโล อัลเวส (สุ...  \n",
       "5  Football Chelsea fans sing Roman Abramovich's name ahead of their Premier League encounter against Burnley; Show of support for outgoing Blues owner comes as all 20 clubs are taking part in gestures of solidary with Ukraine; \"It was not the moment to do this,\" Thomas Tuchel says Sunday 6 March 2022 11:14, UK Please use Chrome browser for a more accessible video player  Thomas Tuchel said Chelsea fans picked the wrong time to show their support for Roman Abramovich after the Russian owner's name was chanted during a show of solidarity with Ukraine ahead of their Premier League win at Burnle...  \n",
       "6  หลังหยุดการแข่งขันไปพักใหญ่จากสถานการณ์แพร่ระบาดของไวรัส COVID-19 ฟุตบอลทั่วโลกกำลังกลับมาแข่งขันกันอีกครั้งภายใต้มาตรการความปลอดภัยรูปแบบใหม่ โดยแม้ว่าส่วนมากจะยังไม่สามารถเปิดให้ผู้ชมเข้าชมในสนามได้ แต่ไม่เป็นอุปสรรคสำหรับการถ่ายทอดสดบอลให้ชมกันที่บ้าน สำหรับประเทศไทย มีโปรแกรมถ่ายทอดสดฟุตบอลให้ชมกันหลายรายการ ผ่านทั้งโทรทัศน์ภาคพื้นดิน, ผ่านดาวเทียม หรือสตรีมมิ่ง โดยมีทั้งรูปแบบการรับชมฟรีและเสียค่าสมาชิก อัคซายิค - ตูราน เตอร์กิสถาน ELEVEN SPORTS คาสปี้ - โทบอล ELEVEN SPORTS อัคโตเบ้ - อาเตอเรา ELEVEN SPORTS มัคตาราล - ไครัต ELEVEN SPORTS ซิดนีย์ เอฟซี - เมลเบิร์น ซิตี้ beIN SPORTS 1 ซ...  \n",
       "7  Football Roman Abramovich says net proceeds from sale of Chelsea will be donated to a foundation \"for the benefit of all victims of the war in Ukraine\"; Russian billionaire has owned Chelsea since 2003; spokesperson says there is \"no substance\" to reports of Jim Ratcliffe's interest Friday 4 March 2022 10:32, UK A spokesperson for British billionaire Jim Ratcliffe has said there is \"no substance\" to reports he is interested in buying Chelsea after Roman Abramovich announced he is planning to sell the club. The Russian billionaire released a statement on Wednesday - just before Chelsea's FA...  \n",
       "8  Football On the new episode of the Prutton's Predictions show, David Prutton and Sky Sports' Simeon Gholam look ahead to all of the weekend's games; check out the stats and hear from Championship fans, before Prutton reveals who he is tipping in Gameweek 22. EFL Expert & Columnist Thursday 9 December 2021 16:50, UK Who is David Prutton tipping for victory in the Sky Bet Championship this weekend? Find out here... David Prutton joins Sky Sports' Simeon Gholam to discuss all of his Championship predictions ahead of Gameweek 22. You can listen below, as Prutton reveals who he is backing this ...  \n",
       "9  Football Watch Derby vs West Brom (3pm) and QPR vs Bournemouth (5.30pm) live on Sky Sports Football EFL Expert & Columnist Sunday 26 December 2021 17:04, UK Who is David Prutton tipping for victory in the Sky Bet Championship on Monday? Find out here... Here is how you can watch the festive Championship matches live across Sky Sports in December and January. Derby, like a lot of teams in the Championship, haven't played in a couple of weeks. It may have given Wayne Rooney a chance to get some legs fresh because he has so little to operate with. West Brom will feel they missed a real chance...  "
      ]
     },
     "execution_count": 6,
     "metadata": {},
     "output_type": "execute_result"
    }
   ],
   "source": [
    "%%time\n",
    "s_manager = ScrapManager()\n",
    "data = s_manager.get_all_data()\n",
    "data[:10]"
   ]
  },
  {
   "cell_type": "code",
   "execution_count": 1,
   "id": "877c3178",
   "metadata": {},
   "outputs": [
    {
     "name": "stderr",
     "output_type": "stream",
     "text": [
      "'ls' is not recognized as an internal or external command,\n",
      "operable program or batch file.\n"
     ]
    }
   ],
   "source": [
    "! ls"
   ]
  },
  {
   "cell_type": "code",
   "execution_count": null,
   "id": "9b85c284",
   "metadata": {},
   "outputs": [],
   "source": []
  }
 ],
 "metadata": {
  "kernelspec": {
   "display_name": "Python 3 (ipykernel)",
   "language": "python",
   "name": "python3"
  },
  "language_info": {
   "codemirror_mode": {
    "name": "ipython",
    "version": 3
   },
   "file_extension": ".py",
   "mimetype": "text/x-python",
   "name": "python",
   "nbconvert_exporter": "python",
   "pygments_lexer": "ipython3",
   "version": "3.9.7"
  }
 },
 "nbformat": 4,
 "nbformat_minor": 5
}
